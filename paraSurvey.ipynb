{
 "cells": [
  {
   "cell_type": "code",
   "execution_count": 1,
   "metadata": {},
   "outputs": [],
   "source": [
    "from PYmodule import *"
   ]
  },
  {
   "cell_type": "code",
   "execution_count": 2,
   "metadata": {},
   "outputs": [],
   "source": [
    "T = np.loadtxt('../test_t1-10/test10_ncore231.txt', delimiter=',')"
   ]
  },
  {
   "cell_type": "code",
   "execution_count": 3,
   "metadata": {},
   "outputs": [
    {
     "data": {
      "text/plain": [
       "((6, 12936), 12936, array([10., 10., 10., ..., 10., 10., 10.]))"
      ]
     },
     "execution_count": 3,
     "metadata": {},
     "output_type": "execute_result"
    }
   ],
   "source": [
    "(T.T).shape, len((T.T)[0]), (T.T)[0]"
   ]
  },
  {
   "cell_type": "code",
   "execution_count": 4,
   "metadata": {},
   "outputs": [
    {
     "name": "stdout",
     "output_type": "stream",
     "text": [
      "argmin like 6901 min prob 5.636 argmin prob 5856 min prob 7.276\n",
      "paras for min like:\n",
      "10.0 -1.6 1.3 0.09 5.253 8.406\n"
     ]
    }
   ],
   "source": [
    "index = np.argmin((T.T)[4])\n",
    "index0,index1 = np.argmin((T.T)[4]),np.argmin((T.T)[5])\n",
    "print('argmin like',index0,'min prob',(T.T)[4][index1], 'argmin prob', index1, 'min prob',(T.T)[5][index1])\n",
    "\n",
    "print('paras for min like:')\n",
    "t_life,logd,l_cut,a,chi2,prob = (T.T)[0][index],(T.T)[1][index],(T.T)[2][index],(T.T)[3][index],(T.T)[4][index],(T.T)[5][index]\n",
    "print(t_life,logd,l_cut,a,chi2,prob)\n",
    "\n",
    "# min from 4p fitting:\n",
    "# 6.21\n"
   ]
  },
  {
   "cell_type": "code",
   "execution_count": 5,
   "metadata": {},
   "outputs": [
    {
     "name": "stdout",
     "output_type": "stream",
     "text": [
      "1\n",
      "argmin like 440 min like 31.01 argmin prob 440 min prob 35.07\n",
      "2\n",
      "argmin like 458 min like 11.9 argmin prob 458 min prob 15.9\n",
      "3\n",
      "argmin like 1381 min like 8.462 argmin prob 396 min prob 11.35\n",
      "4\n",
      "argmin like 2284 min like 6.95 argmin prob 355 min prob 9.323\n",
      "5\n",
      "argmin like 456 min like 6.231 argmin prob 395 min prob 8.971\n",
      "6\n",
      "argmin like 334 min like 6.06 argmin prob 314 min prob 8.06\n",
      "7\n",
      "argmin like 4151 min like 5.755 argmin prob 374 min prob 8.136\n",
      "8\n",
      "argmin like 3648 min like 5.831 argmin prob 4471 min prob 7.641\n",
      "9\n",
      "argmin like 5998 min like 5.569 argmin prob 293 min prob 7.335\n",
      "10\n",
      "argmin like 6901 min like 5.636 argmin prob 5856 min prob 7.276\n"
     ]
    }
   ],
   "source": [
    "for i in range(1,11):\n",
    "    if i==10:\n",
    "        T = np.loadtxt('../test_t1-10/test%d_ncore128.txt'%i, delimiter=',') # same w/ 231, slower w/ 128 cores\n",
    "    else:\n",
    "        T = np.loadtxt('../test_t1-10/test%d_ncore231.txt'%i, delimiter=',')\n",
    "    T = np.loadtxt('../test_t1-10/test%d_ncore231.txt'%i, delimiter=',')\n",
    "    print(i)\n",
    "    like=(T.T)[4]; prob=(T.T)[5]\n",
    "    index = np.argmin(like)\n",
    "    index0,index1 = np.argmin(like),np.argmin(prob)\n",
    "    print('argmin like',index0,'min like',like[index1], 'argmin prob', index1, 'min prob',prob[index1])\n",
    "\n",
    "    t_life,logd,l_cut,a,chi2,prob = (T.T)[0][index],(T.T)[1][index],(T.T)[2][index],(T.T)[3][index],like[index],prob[index]\n",
    "#     print('paras for min like:')\n",
    "#     print(t_life,logd,l_cut,a,chi2,prob)"
   ]
  },
  {
   "cell_type": "code",
   "execution_count": null,
   "metadata": {},
   "outputs": [],
   "source": []
  },
  {
   "cell_type": "code",
   "execution_count": null,
   "metadata": {},
   "outputs": [],
   "source": []
  },
  {
   "cell_type": "code",
   "execution_count": null,
   "metadata": {},
   "outputs": [],
   "source": []
  },
  {
   "cell_type": "code",
   "execution_count": 6,
   "metadata": {},
   "outputs": [],
   "source": [
    "logds = np.arange(-3.,-.2,0.1)\n",
    "ls = np.arange(0.3,1.4,0.05)\n",
    "aas = np.arange(-0.3,0.31,.03)\n",
    "ts = np.array([10])\n",
    "# Ncore=231, Neach=56\n",
    "\n",
    "logds = np.logspace(-3.,-.5,num=20)\n",
    "ls = np.arange(0.3,1.4,0.05)\n",
    "aas = np.arange(-0.3,0.31,.05)\n",
    "ts = np.array([10])\n",
    "# Ncore=220, Neach=26\n"
   ]
  },
  {
   "cell_type": "code",
   "execution_count": 7,
   "metadata": {},
   "outputs": [],
   "source": [
    "logds = np.arange(-3.,-.2,0.1)\n",
    "ls = np.arange(0.3,1.4,0.05)\n",
    "aas = np.arange(-0.3,0.31,.03)\n",
    "ts = np.array([1])"
   ]
  },
  {
   "cell_type": "code",
   "execution_count": 8,
   "metadata": {},
   "outputs": [
    {
     "name": "stdout",
     "output_type": "stream",
     "text": [
      "-0.014723256820706347 0.9666666666666667\n"
     ]
    },
    {
     "data": {
      "text/plain": [
       "(21, 12936)"
      ]
     },
     "execution_count": 8,
     "metadata": {},
     "output_type": "execute_result"
    }
   ],
   "source": [
    "\n",
    "Ntot=len(logds)*len(ls)*len(aas)\n",
    "print(np.log10(logds[1]/logds[0]),logds[1]/logds[0])\n",
    "len(aas),Ntot"
   ]
  },
  {
   "cell_type": "code",
   "execution_count": 9,
   "metadata": {},
   "outputs": [
    {
     "name": "stdout",
     "output_type": "stream",
     "text": [
      "240 53 216\n",
      "239 54 30\n",
      "238 54 84\n",
      "237 54 138\n",
      "236 54 192\n",
      "235 55 11\n",
      "234 55 66\n",
      "233 55 121\n",
      "232 55 176\n",
      "231 56 0\n",
      "230 56 56\n",
      "229 56 112\n",
      "228 56 168\n",
      "227 56 224\n",
      "226 57 54\n",
      "225 57 111\n",
      "224 57 168\n",
      "223 58 2\n",
      "222 58 60\n",
      "221 58 118\n",
      "220 58 176\n",
      "219 59 15\n",
      "218 59 74\n",
      "217 59 133\n",
      "216 59 192\n",
      "215 60 36\n",
      "214 60 96\n",
      "213 60 156\n",
      "212 61 4\n",
      "211 61 65\n",
      "210 61 126\n",
      "209 61 187\n",
      "208 62 40\n",
      "207 62 102\n",
      "206 62 164\n",
      "205 63 21\n",
      "204 63 84\n",
      "203 63 147\n",
      "202 64 8\n",
      "201 64 72\n"
     ]
    }
   ],
   "source": [
    "for Ncore in range(240,200,-1):\n",
    "    print(Ncore,Ntot//Ncore, Ntot%Ncore)"
   ]
  },
  {
   "cell_type": "code",
   "execution_count": null,
   "metadata": {},
   "outputs": [],
   "source": []
  },
  {
   "cell_type": "code",
   "execution_count": null,
   "metadata": {},
   "outputs": [],
   "source": []
  }
 ],
 "metadata": {
  "kernelspec": {
   "display_name": "Python 3 (ipykernel)",
   "language": "python",
   "name": "python3"
  },
  "language_info": {
   "codemirror_mode": {
    "name": "ipython",
    "version": 3
   },
   "file_extension": ".py",
   "mimetype": "text/x-python",
   "name": "python",
   "nbconvert_exporter": "python",
   "pygments_lexer": "ipython3",
   "version": "3.9.13"
  }
 },
 "nbformat": 4,
 "nbformat_minor": 2
}
