{
 "cells": [
  {
   "cell_type": "markdown",
   "metadata": {},
   "source": [
    "## all using Planck15 cosmo + EH98 transfer model + Carroll92 growth factor"
   ]
  },
  {
   "cell_type": "code",
   "execution_count": 2,
   "metadata": {},
   "outputs": [
    {
     "data": {
      "text/plain": [
       "1.98844256736501e-29"
      ]
     },
     "execution_count": 2,
     "metadata": {},
     "output_type": "execute_result"
    }
   ],
   "source": [
    "from hmf import MassFunction\n",
    "from astropy.io import ascii\n",
    "from astropy.table import Table\n",
    "import matplotlib.pyplot as plt\n",
    "import numpy as np\n",
    "%matplotlib inline\n",
    "mf = MassFunction()\n",
    "km = 1.e5; G = 6.67e-8;\n",
    "h = .677; Mpc = 3.e24; Ms = 2.e33\n",
    "3.e4*(km/Mpc)**2/(8*np.pi*G)"
   ]
  },
  {
   "cell_type": "code",
   "execution_count": 3,
   "metadata": {
    "scrolled": false
   },
   "outputs": [],
   "source": [
    "# help(MassFunction)"
   ]
  },
  {
   "cell_type": "code",
   "execution_count": 4,
   "metadata": {
    "scrolled": false
   },
   "outputs": [
    {
     "data": {
      "text/plain": [
       "{'cosmo_model': FlatLambdaCDM(name=\"Planck15\", H0=67.7 km / (Mpc s), Om0=0.307, Tcmb0=2.725 K, Neff=3.05, m_nu=[0.   0.   0.06] eV, Ob0=0.0486),\n",
       " 'cosmo_params': {},\n",
       " 'n': 0.9667,\n",
       " 'sigma_8': 0.8159,\n",
       " 'growth_params': {},\n",
       " 'lnk_min': -18.420680743952367,\n",
       " 'lnk_max': 9.903487552536127,\n",
       " 'dlnk': 0.05,\n",
       " 'z': 0.0,\n",
       " 'transfer_model': hmf.density_field.transfer_models.CAMB,\n",
       " 'transfer_params': {},\n",
       " 'takahashi': True,\n",
       " 'growth_model': hmf.cosmology.growth_factor.GrowthFactor,\n",
       " 'hmf_model': hmf.mass_function.fitting_functions.Tinker08,\n",
       " 'Mmin': 10,\n",
       " 'Mmax': 15,\n",
       " 'dlog10m': 0.01,\n",
       " 'mdef_model': None,\n",
       " 'mdef_params': {},\n",
       " 'delta_c': 1.686,\n",
       " 'hmf_params': {},\n",
       " 'filter_model': hmf.density_field.filters.TopHat,\n",
       " 'filter_params': {},\n",
       " 'disable_mass_conversion': True}"
      ]
     },
     "execution_count": 4,
     "metadata": {},
     "output_type": "execute_result"
    }
   ],
   "source": [
    "MassFunction.get_all_parameter_defaults(recursive=False)"
   ]
  },
  {
   "cell_type": "code",
   "execution_count": 5,
   "metadata": {},
   "outputs": [
    {
     "name": "stdout",
     "output_type": "stream",
     "text": [
      "2.897403598881738e-30 8.708251e-30\n"
     ]
    }
   ],
   "source": [
    "Msun = 2.e33; h=.677; Mpc = 3.e24\n",
    "mf.mean_density0 # in Ms hubble**2 / Mpc**3\n",
    "print(mf.mean_density0*Ms*(h*h)/pow(Mpc,3), 1.9e-29*(h**2))\n",
    "# print(1.9e-29*(h**2))"
   ]
  },
  {
   "cell_type": "code",
   "execution_count": 6,
   "metadata": {},
   "outputs": [
    {
     "data": {
      "text/plain": [
       "2.7978779429155605e-30"
      ]
     },
     "execution_count": 6,
     "metadata": {},
     "output_type": "execute_result"
    }
   ],
   "source": [
    "rho_0 = mf.mean_density0*Ms*(h*h)/pow(Mpc,3)\n",
    "G = 6.67e-8; H0 = 67.7*1.e5/3.e24\n",
    "3.*(H0**2)/(8*np.pi*G)*.307"
   ]
  },
  {
   "cell_type": "markdown",
   "metadata": {},
   "source": [
    "## halo mass function: \n",
    "### halo numbers in $d\\log_{10} m =1$ range"
   ]
  },
  {
   "cell_type": "code",
   "execution_count": 7,
   "metadata": {
    "scrolled": true
   },
   "outputs": [
    {
     "name": "stdout",
     "output_type": "stream",
     "text": [
      "10000 0.0001\n",
      "11.0\n",
      "9.872e-04\n"
     ]
    },
    {
     "data": {
      "image/png": "[encoded data removed]",
      "text/plain": [
       "<Figure size 432x288 with 1 Axes>"
      ]
     },
     "metadata": {
      "needs_background": "light"
     },
     "output_type": "display_data"
    }
   ],
   "source": [
    "zz = 6\n",
    "dlog10m = 0.0001\n",
    "log10Mmin = 11+np.log10(h)\n",
    "log10Mmax = 12+np.log10(h)\n",
    "mf= MassFunction(hmf_model='ST',transfer_model='EH',z=zz,Mmin=log10Mmin,Mmax=log10Mmax,dlog10m=dlog10m,growth_model='Carroll1992')\n",
    "x, y = mf.m/h,mf.dndlog10m*h**3\n",
    "print(len(x),mf.dlog10m)\n",
    "plt.plot(x,y)\n",
    "\n",
    "# mf= MassFunction(hmf_model='ST',transfer_model='CAMB',z=zz,Mmin=log10Mmin,Mmax=log10Mmax,dlog10m=dlog10m,growth_model='Carroll1992')\n",
    "# x, y = mf.m/h,mf.dndlog10m*h**3\n",
    "# print(len(x),mf.dlog10m)\n",
    "# plt.plot(x,y,alpha=.5)\n",
    "\n",
    "T = ascii.read('../data/dnSTdM_z6cpp.txt', delimiter=' ')\n",
    "plt.loglog(T['M'], T['n_ST'], '--', label=str(zz)+'_cpp');\n",
    "\n",
    "plt.xscale('log'); plt.yscale('log')\n",
    "\n",
    "print('{0:.1f}'.format(np.log10(x[0])))\n",
    "print('{0:.3e}'.format(np.sum(y*mf.dlog10m)))\n",
    "# mass ranges: [11,12,13(to 14 or 15)]\n",
    "# halo numbers: [9.87e-4, 6.15e-6, 8.92e-10]"
   ]
  },
  {
   "cell_type": "markdown",
   "metadata": {},
   "source": [
    "## Power spectrum $P\\propto \\rm{growth~factror}^2 $, $P\\propto \\sigma_8 $ "
   ]
  },
  {
   "cell_type": "code",
   "execution_count": 18,
   "metadata": {
    "scrolled": false
   },
   "outputs": [
    {
     "data": {
      "image/png": "[encoded data removed]",
      "text/plain": [
       "<Figure size 432x288 with 1 Axes>"
      ]
     },
     "metadata": {
      "needs_background": "light"
     },
     "output_type": "display_data"
    }
   ],
   "source": [
    "# depending on transfer model; sigma8 is normalization \n",
    "mf= MassFunction(hmf_model='ST',transfer_model='EH',z=10,sigma_8=1.,growth_model='Carroll1992')\n",
    "plt.loglog(mf.k, mf.delta_k/mf.growth_factor**2*.8159/mf.sigma_8)\n",
    "mf= MassFunction(hmf_model='ST',transfer_model='EH',z=0 ,growth_model='Carroll1992')\n",
    "plt.loglog(mf.k, mf.delta_k,'--')\n",
    "\n",
    "T = Table([mf.k*h, mf.delta_k], names=['k_Mpc', 'Delta_k'])\n",
    "ascii.write(T,'../data/hmf_Pk.dat',overwrite=True)"
   ]
  },
  {
   "cell_type": "raw",
   "metadata": {},
   "source": [
    "# compare w/ Michael Boylan-Kolchin 2022, Fig1a\n",
    "fig, ax = plt.subplots(1, 1, dpi=400)\n",
    "\n",
    "log10Mmin = 9+np.log10(h)\n",
    "log10Mmax = 15+np.log10(h)\n",
    "dlog10m = 0.05\n",
    "\n",
    "# mf= MassFunction(hmf_model='ST',transfer_model='EH',z=zz,growth_model='Carroll1992')\n",
    "\n",
    "# GenMFGrowth\n",
    "\n",
    "# # GrowthFactor\n",
    "# for zz in [7,10,13,16]:\n",
    "#     for grow in ['Carroll1992','CambGrowth','GenMFGrowth','GrowthFactor']: # 'CAMB',\n",
    "#         trans= 'CAMB'\n",
    "#         mf= MassFunction(hmf_model='ST',cosmo_params={\"Om0\":0.3158,\"H0\":67.32,},sigma_8=.8120,n=.96605,transfer_model=trans,z=zz,Mmin=log10Mmin,Mmax=log10Mmax,dlog10m=dlog10m,growth_model=grow)\n",
    "\n",
    "#         x, y = mf.m/(mf.cosmo_params['H0']/100),mf.dndlog10m*(mf.cosmo_params['H0']/100)**3\n",
    "#         ax.plot(x,[dlog10m*np.sum(y[x>x[i]]) for i in range(len(x))],label=trans+' '+grow)\n",
    "for zz in [7,10,13,16]:\n",
    "    for trans in ['BBKS','BondEfs','EH','EH_NoBAO']: # 'CAMB',\n",
    "        grow='Carroll1992'\n",
    "        grow='CambGrowth'\n",
    "        grow='GenMFGrowth'\n",
    "        grow='GrowthFactor'\n",
    "\n",
    "        mf= MassFunction(hmf_model='ST',cosmo_params={\"Om0\":0.3158,\"H0\":67.32,},sigma_8=.8120,n=.96605,transfer_model=trans,z=zz,Mmin=log10Mmin,Mmax=log10Mmax,dlog10m=dlog10m,growth_model=grow)\n",
    "\n",
    "        x, y = mf.m/(mf.cosmo_params['H0']/100),mf.dndlog10m*(mf.cosmo_params['H0']/100)**3\n",
    "        ax.plot(x,[dlog10m*np.sum(y[x>x[i]]) for i in range(len(x))],label=trans+' '+grow)\n",
    "\n",
    "ax.set_xlim(1e9,1e13)#e4)\n",
    "ax.set_ylim(1e-8,.1)\n",
    "ax.grid(1)\n",
    "ax.set_xscale('log')\n",
    "ax.set_yscale('log')\n",
    "ax.legend()\n",
    "fig.savefig('../Mabundance.png')"
   ]
  },
  {
   "cell_type": "markdown",
   "metadata": {},
   "source": [
    "## $\\sigma^2(M)$ v.s. M"
   ]
  },
  {
   "cell_type": "code",
   "execution_count": 22,
   "metadata": {
    "scrolled": true
   },
   "outputs": [
    {
     "data": {
      "image/png": "[encoded data removed]",
      "text/plain": [
       "<Figure size 432x288 with 1 Axes>"
      ]
     },
     "metadata": {
      "needs_background": "light"
     },
     "output_type": "display_data"
    }
   ],
   "source": [
    "# sigma^2 is P(k) integration; propto sigma8\n",
    "for zz in np.arange(0.,5.,1.):\n",
    "    mf= MassFunction(hmf_model='ST',transfer_model='EH',z=zz, Mmin=8, Mmax=14,growth_model='Carroll1992')\n",
    "    x, y = mf.m/h, mf.sigma/mf.growth_factor\n",
    "    plt.loglog(x,y)\n",
    "\n",
    "# Tcpp = ascii.read('sigmaM.txt', delimiter=' ')\n",
    "# plt.loglog(Tcpp['Mass'],Tcpp['sigma'],'--')\n",
    "\n",
    "# -- change cosom parameters here: passing cosmo ensured\n",
    "for zz in np.arange(0.,5.,1.):\n",
    "    mf= MassFunction(hmf_model='ST',sigma_8=.8,transfer_model='EH',z=zz, Mmin=8, Mmax=14,growth_model='Carroll1992')\n",
    "    x, y = mf.m/h, mf.sigma/mf.growth_factor\n",
    "    plt.loglog(x,y*.8159/.8,'--')\n",
    "\n",
    "plt.show()"
   ]
  },
  {
   "cell_type": "markdown",
   "metadata": {},
   "source": [
    "## growth factor: Carroll 1992 growth factor v.s. z"
   ]
  },
  {
   "cell_type": "code",
   "execution_count": 23,
   "metadata": {},
   "outputs": [
    {
     "data": {
      "image/png": "[encoded data removed]",
      "text/plain": [
       "<Figure size 432x288 with 1 Axes>"
      ]
     },
     "metadata": {
      "needs_background": "light"
     },
     "output_type": "display_data"
    }
   ],
   "source": [
    "# # from Jdist.cpp\n",
    "# Tcpp = ascii.read('growth_factor.txt', names=['z', 'Dz'], guess=False,delimiter=' ')\n",
    "# plt.plot(Tcpp['z'],Tcpp['Dz'],'--')\n",
    "\n",
    "zs = []; Dzs = []\n",
    "for zz in np.arange(0.,50,.1):\n",
    "    mf= MassFunction(z=zz,hmf_model='ST',transfer_model='EH',Mmin=8, Mmax=14,growth_model='Carroll1992')\n",
    "    zs.append(zz); Dzs.append(mf.growth_factor)\n",
    "T = Table([zs, Dzs], names=['z', 'Dz'])\n",
    "plt.plot(T['z'],T['Dz'])\n",
    "plt.yscale('log')\n",
    "plt.show()"
   ]
  }
 ],
 "metadata": {
  "kernelspec": {
   "display_name": "Python 3",
   "language": "python",
   "name": "python3"
  },
  "language_info": {
   "codemirror_mode": {
    "name": "ipython",
    "version": 3
   },
   "file_extension": ".py",
   "mimetype": "text/x-python",
   "name": "python",
   "nbconvert_exporter": "python",
   "pygments_lexer": "ipython3",
   "version": "3.7.3"
  }
 },
 "nbformat": 4,
 "nbformat_minor": 2
}
