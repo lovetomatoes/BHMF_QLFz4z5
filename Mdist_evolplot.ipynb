{
 "cells": [
  {
   "cell_type": "code",
   "execution_count": 32,
   "metadata": {},
   "outputs": [],
   "source": [
    "from PYmodule import *\n",
    "from PYmodule.l_intg import *\n",
    "import matplotlib.ticker as ticker\n",
    "from astropy.table import Table, hstack\n",
    "\n",
    "# plt.style.use('classic')"
   ]
  },
  {
   "cell_type": "code",
   "execution_count": 2,
   "metadata": {},
   "outputs": [],
   "source": [
    "z1 = 7.642\n",
    "t_1 = t_from_z(z1)\n",
    "z_end = 6\n",
    "t_end = t_from_z(z_end)\n",
    "\n",
    "T_seed = Ts[0][0]\n",
    "tz = t_from_z(6.)/Myr\n",
    "t0 = np.min(T_seed['t_col']/Myr)"
   ]
  },
  {
   "cell_type": "code",
   "execution_count": 43,
   "metadata": {},
   "outputs": [],
   "source": [
    "t_life, logd_fit, l_cut, a = 18.7555167,  -1.2574505,   0.87372563,  0.20389703; f_seed = 0.01\n",
    "# z=6 BH mass, λ, L_bol\n",
    "f_seedlabel = 'f%d'%abs(int(np.log10(f_seed)))\n",
    "\n",
    "# by gamma\n",
    "prex = '../temp/distf2N5_08201450_'\n",
    "# prex = '../temp/distf2N6_08201505_'\n",
    "prex = '../temp/distf2N7_08201925_'\n",
    "# prex = '../temp/distf2N8_08201220_'\n",
    "prex = '../temp/distf2N5_08211127_'\n",
    "prex = '../temp/distf2N4_08211421_'\n"
   ]
  },
  {
   "cell_type": "markdown",
   "metadata": {},
   "source": [
    "## growth tracks for all BHs (at z=6 >$M_{low}$)"
   ]
  },
  {
   "cell_type": "code",
   "execution_count": 44,
   "metadata": {},
   "outputs": [
    {
     "name": "stdout",
     "output_type": "stream",
     "text": [
      "1471\n"
     ]
    }
   ],
   "source": [
    "M_low = 1e8\n",
    "\n",
    "T_M = np.loadtxt(prex+'Mevol.txt') # each line a BH growth track; all end with M>1e8\n",
    "T_l = np.loadtxt(prex+'levol.txt') # each line a BH growth track; all end with M>1e8\n",
    "T_t = np.loadtxt(prex+'tevol.txt') # each line a lambda track; all end with M>1e8\n",
    "T_z = np.loadtxt(prex+'zevol.txt') # each line a lambda track; all end with M>1e8\n",
    "print(len(T_M))"
   ]
  },
  {
   "cell_type": "code",
   "execution_count": 45,
   "metadata": {},
   "outputs": [
    {
     "name": "stdout",
     "output_type": "stream",
     "text": [
      "132\n"
     ]
    }
   ],
   "source": [
    "M1 = T_M.transpose()[-1]\n",
    "T_M = T_M[np.where(M1>M_low)]\n",
    "T_l = T_l[np.where(M1>M_low)]\n",
    "T_t = T_t[np.where(M1>M_low)]\n",
    "T_z = T_z[np.where(M1>M_low)]\n",
    "print(len(T_M))\n",
    "\n"
   ]
  },
  {
   "cell_type": "code",
   "execution_count": 59,
   "metadata": {},
   "outputs": [
    {
     "data": {
      "text/html": [
       "<i>Table length=1</i>\n",
       "<table id=\"table4832913728\" class=\"table-striped table-bordered table-condensed\">\n",
       "<thead><tr><th>col0_1</th><th>col1_1</th><th>col2_1</th><th>col3_1</th><th>col4_1</th><th>col5_1</th><th>col6_1</th><th>col7_1</th><th>col8_1</th><th>col9_1</th><th>col10_1</th><th>col11_1</th><th>col12_1</th><th>col13_1</th><th>col14_1</th><th>col15_1</th><th>col16_1</th><th>col17_1</th><th>col18_1</th><th>col19_1</th><th>col20_1</th><th>col21_1</th><th>col22_1</th><th>col23_1</th><th>col24_1</th><th>col25_1</th><th>col26_1</th><th>col27_1</th><th>col28_1</th><th>col29_1</th><th>col30_1</th><th>col31_1</th><th>col32_1</th><th>col33_1</th><th>col34_1</th><th>col35_1</th><th>col36_1</th><th>col37_1</th><th>col38_1</th><th>col39_1</th><th>col40_1</th><th>col41_1</th><th>col42_1</th><th>col43_1</th><th>col44_1</th><th>col45_1</th><th>col46_1</th><th>col47_1</th><th>col48_1</th><th>col49_1</th><th>col50_1</th><th>col51_1</th><th>col52_1</th><th>col53_1</th><th>col54_1</th><th>col55_1</th><th>col56_1</th><th>col57_1</th><th>col58_1</th><th>col59_1</th><th>col60_1</th><th>col61_1</th><th>col62_1</th><th>col63_1</th><th>col64_1</th><th>col65_1</th><th>col66_1</th><th>col67_1</th><th>col68_1</th><th>col69_1</th><th>col70_1</th><th>col71_1</th><th>col72_1</th><th>col73_1</th><th>col74_1</th><th>col75_1</th><th>col76_1</th><th>col77_1</th><th>col78_1</th><th>col79_1</th><th>col80_1</th><th>col81_1</th><th>col82_1</th><th>col83_1</th><th>col84_1</th><th>col85_1</th><th>col86_1</th><th>col87_1</th><th>col88_1</th><th>col89_1</th><th>col90_1</th><th>col91_1</th><th>col92_1</th><th>col93_1</th><th>col94_1</th><th>col95_1</th><th>col96_1</th><th>col97_1</th><th>col98_1</th><th>col99_1</th><th>col100_1</th><th>col101_1</th><th>col102_1</th><th>col103_1</th><th>col104_1</th><th>col105_1</th><th>col106_1</th><th>col107_1</th><th>col108_1</th><th>col109_1</th><th>col110_1</th><th>col111_1</th><th>col112_1</th><th>col113_1</th><th>col114_1</th><th>col115_1</th><th>col116_1</th><th>col117_1</th><th>col118_1</th><th>col119_1</th><th>col120_1</th><th>col121_1</th><th>col122_1</th><th>col123_1</th><th>col124_1</th><th>col125_1</th><th>col126_1</th><th>col127_1</th><th>col128_1</th><th>col129_1</th><th>col130_1</th><th>col131_1</th><th>col0_2</th><th>col1_2</th><th>col2_2</th><th>col3_2</th><th>col4_2</th><th>col5_2</th><th>col6_2</th><th>col7_2</th><th>col8_2</th><th>col9_2</th><th>col10_2</th><th>col11_2</th><th>col12_2</th><th>col13_2</th><th>col14_2</th><th>col15_2</th><th>col16_2</th><th>col17_2</th><th>col18_2</th><th>col19_2</th><th>col20_2</th><th>col21_2</th><th>col22_2</th><th>col23_2</th><th>col24_2</th><th>col25_2</th><th>col26_2</th><th>col27_2</th><th>col28_2</th><th>col29_2</th><th>col30_2</th><th>col31_2</th><th>col32_2</th><th>col33_2</th><th>col34_2</th><th>col35_2</th><th>col36_2</th><th>col37_2</th><th>col38_2</th><th>col39_2</th><th>col40_2</th><th>col41_2</th><th>col42_2</th><th>col43_2</th><th>col44_2</th><th>col45_2</th><th>col46_2</th><th>col47_2</th><th>col48_2</th><th>col49_2</th><th>col50_2</th><th>col51_2</th><th>col52_2</th><th>col53_2</th><th>col54_2</th><th>col55_2</th><th>col56_2</th><th>col57_2</th><th>col58_2</th><th>col59_2</th><th>col60_2</th><th>col61_2</th><th>col62_2</th><th>col63_2</th><th>col64_2</th><th>col65_2</th><th>col66_2</th><th>col67_2</th><th>col68_2</th><th>col69_2</th><th>col70_2</th><th>col71_2</th><th>col72_2</th><th>col73_2</th><th>col74_2</th><th>col75_2</th><th>col76_2</th><th>col77_2</th><th>col78_2</th><th>col79_2</th><th>col80_2</th><th>col81_2</th><th>col82_2</th><th>col83_2</th><th>col84_2</th><th>col85_2</th><th>col86_2</th><th>col87_2</th><th>col88_2</th><th>col89_2</th><th>col90_2</th><th>col91_2</th><th>col92_2</th><th>col93_2</th><th>col94_2</th><th>col95_2</th><th>col96_2</th><th>col97_2</th><th>col98_2</th><th>col99_2</th><th>col100_2</th><th>col101_2</th><th>col102_2</th><th>col103_2</th><th>col104_2</th><th>col105_2</th><th>col106_2</th><th>col107_2</th><th>col108_2</th><th>col109_2</th><th>col110_2</th><th>col111_2</th><th>col112_2</th><th>col113_2</th><th>col114_2</th><th>col115_2</th><th>col116_2</th><th>col117_2</th><th>col118_2</th><th>col119_2</th><th>col120_2</th><th>col121_2</th><th>col122_2</th><th>col123_2</th><th>col124_2</th><th>col125_2</th><th>col126_2</th><th>col127_2</th><th>col128_2</th><th>col129_2</th><th>col130_2</th><th>col131_2</th></tr></thead>\n",
       "<thead><tr><th>float64</th><th>float64</th><th>float64</th><th>float64</th><th>float64</th><th>float64</th><th>float64</th><th>float64</th><th>float64</th><th>float64</th><th>float64</th><th>float64</th><th>float64</th><th>float64</th><th>float64</th><th>float64</th><th>float64</th><th>float64</th><th>float64</th><th>float64</th><th>float64</th><th>float64</th><th>float64</th><th>float64</th><th>float64</th><th>float64</th><th>float64</th><th>float64</th><th>float64</th><th>float64</th><th>float64</th><th>float64</th><th>float64</th><th>float64</th><th>float64</th><th>float64</th><th>float64</th><th>float64</th><th>float64</th><th>float64</th><th>float64</th><th>float64</th><th>float64</th><th>float64</th><th>float64</th><th>float64</th><th>float64</th><th>float64</th><th>float64</th><th>float64</th><th>float64</th><th>float64</th><th>float64</th><th>float64</th><th>float64</th><th>float64</th><th>float64</th><th>float64</th><th>float64</th><th>float64</th><th>float64</th><th>float64</th><th>float64</th><th>float64</th><th>float64</th><th>float64</th><th>float64</th><th>float64</th><th>float64</th><th>float64</th><th>float64</th><th>float64</th><th>float64</th><th>float64</th><th>float64</th><th>float64</th><th>float64</th><th>float64</th><th>float64</th><th>float64</th><th>float64</th><th>float64</th><th>float64</th><th>float64</th><th>float64</th><th>float64</th><th>float64</th><th>float64</th><th>float64</th><th>float64</th><th>float64</th><th>float64</th><th>float64</th><th>float64</th><th>float64</th><th>float64</th><th>float64</th><th>float64</th><th>float64</th><th>float64</th><th>float64</th><th>float64</th><th>float64</th><th>float64</th><th>float64</th><th>float64</th><th>float64</th><th>float64</th><th>float64</th><th>float64</th><th>float64</th><th>float64</th><th>float64</th><th>float64</th><th>float64</th><th>float64</th><th>float64</th><th>float64</th><th>float64</th><th>float64</th><th>float64</th><th>float64</th><th>float64</th><th>float64</th><th>float64</th><th>float64</th><th>float64</th><th>float64</th><th>float64</th><th>float64</th><th>float64</th><th>float64</th><th>float64</th><th>float64</th><th>float64</th><th>float64</th><th>float64</th><th>float64</th><th>float64</th><th>float64</th><th>float64</th><th>float64</th><th>float64</th><th>float64</th><th>float64</th><th>float64</th><th>float64</th><th>float64</th><th>float64</th><th>float64</th><th>float64</th><th>float64</th><th>float64</th><th>float64</th><th>float64</th><th>float64</th><th>float64</th><th>float64</th><th>float64</th><th>float64</th><th>float64</th><th>float64</th><th>float64</th><th>float64</th><th>float64</th><th>float64</th><th>float64</th><th>float64</th><th>float64</th><th>float64</th><th>float64</th><th>float64</th><th>float64</th><th>float64</th><th>float64</th><th>float64</th><th>float64</th><th>float64</th><th>float64</th><th>float64</th><th>float64</th><th>float64</th><th>float64</th><th>float64</th><th>float64</th><th>float64</th><th>float64</th><th>float64</th><th>float64</th><th>float64</th><th>float64</th><th>float64</th><th>float64</th><th>float64</th><th>float64</th><th>float64</th><th>float64</th><th>float64</th><th>float64</th><th>float64</th><th>float64</th><th>float64</th><th>float64</th><th>float64</th><th>float64</th><th>float64</th><th>float64</th><th>float64</th><th>float64</th><th>float64</th><th>float64</th><th>float64</th><th>float64</th><th>float64</th><th>float64</th><th>float64</th><th>float64</th><th>float64</th><th>float64</th><th>float64</th><th>float64</th><th>float64</th><th>float64</th><th>float64</th><th>float64</th><th>float64</th><th>float64</th><th>float64</th><th>float64</th><th>float64</th><th>float64</th><th>float64</th><th>float64</th><th>float64</th><th>float64</th><th>float64</th><th>float64</th><th>float64</th><th>float64</th><th>float64</th><th>float64</th><th>float64</th><th>float64</th><th>float64</th><th>float64</th><th>float64</th><th>float64</th><th>float64</th><th>float64</th><th>float64</th><th>float64</th><th>float64</th><th>float64</th><th>float64</th><th>float64</th><th>float64</th><th>float64</th><th>float64</th><th>float64</th><th>float64</th><th>float64</th><th>float64</th><th>float64</th><th>float64</th></tr></thead>\n",
       "<tr><td>112400.0</td><td>1530.0</td><td>10690.0</td><td>1688.0</td><td>6314.0</td><td>77440.0</td><td>1580.0</td><td>1469.0</td><td>4331.0</td><td>17090.0</td><td>541.4</td><td>8424.0</td><td>10170.0</td><td>26130.0</td><td>2526.0</td><td>8003.0</td><td>2586.0</td><td>2140.0</td><td>36200.0</td><td>34070.0</td><td>2123.0</td><td>376.5</td><td>154400.0</td><td>872.4</td><td>2719.0</td><td>9085.0</td><td>24710.0</td><td>34140.0</td><td>1334.0</td><td>2431.0</td><td>1456.0</td><td>8460.0</td><td>11790.0</td><td>2046.0</td><td>1678.0</td><td>1803.0</td><td>1675.0</td><td>10860.0</td><td>167100.0</td><td>164600.0</td><td>6658.0</td><td>9986.0</td><td>7234.0</td><td>44980.0</td><td>817.5</td><td>9041.0</td><td>2548.0</td><td>790.8</td><td>7377.0</td><td>3034.0</td><td>7901.0</td><td>3022.0</td><td>3139.0</td><td>9218.0</td><td>1545.0</td><td>8536.0</td><td>24770.0</td><td>1167.0</td><td>182000.0</td><td>11610.0</td><td>907.2</td><td>433.0</td><td>10470.0</td><td>600.2</td><td>170300.0</td><td>159400.0</td><td>10820.0</td><td>58500.0</td><td>7946.0</td><td>2167.0</td><td>1408.0</td><td>2843.0</td><td>4774.0</td><td>118900.0</td><td>13990.0</td><td>2239.0</td><td>34060.0</td><td>1949.0</td><td>86100.0</td><td>4074.0</td><td>158400.0</td><td>2073.0</td><td>2821.0</td><td>8034.0</td><td>149700.0</td><td>2578.0</td><td>6503.0</td><td>12220.0</td><td>149900.0</td><td>8546.0</td><td>7928.0</td><td>11280.0</td><td>181400.0</td><td>1322.0</td><td>22850.0</td><td>1535.0</td><td>117400.0</td><td>2699.0</td><td>10530.0</td><td>6195.0</td><td>27500.0</td><td>24520.0</td><td>2053.0</td><td>173000.0</td><td>3440.0</td><td>2940.0</td><td>96840.0</td><td>7332.0</td><td>9689.0</td><td>17130.0</td><td>11110.0</td><td>121000.0</td><td>1099.0</td><td>164500.0</td><td>2113.0</td><td>1177.0</td><td>92010.0</td><td>2671.0</td><td>2228.0</td><td>1858.0</td><td>22540.0</td><td>437.1</td><td>29640.0</td><td>1364.0</td><td>7768.0</td><td>9637.0</td><td>16650.0</td><td>2467.0</td><td>11210.0</td><td>19080.0</td><td>78990.0</td><td>8239.0</td><td>30.76</td><td>32.49</td><td>33.94</td><td>46.64</td><td>26.13</td><td>28.94</td><td>31.49</td><td>36.0</td><td>43.63</td><td>24.18</td><td>39.93</td><td>30.32</td><td>27.87</td><td>29.84</td><td>43.65</td><td>28.43</td><td>37.52</td><td>35.96</td><td>29.71</td><td>32.27</td><td>37.45</td><td>38.39</td><td>25.98</td><td>36.04</td><td>37.63</td><td>23.13</td><td>27.91</td><td>31.57</td><td>36.87</td><td>30.57</td><td>36.74</td><td>29.27</td><td>30.89</td><td>41.52</td><td>36.4</td><td>36.22</td><td>38.92</td><td>32.46</td><td>35.0</td><td>37.05</td><td>28.41</td><td>28.79</td><td>39.15</td><td>25.4</td><td>34.44</td><td>29.89</td><td>45.41</td><td>29.11</td><td>33.51</td><td>40.51</td><td>25.18</td><td>40.1</td><td>37.63</td><td>28.48</td><td>29.34</td><td>31.15</td><td>26.91</td><td>38.19</td><td>33.42</td><td>28.95</td><td>33.48</td><td>34.45</td><td>24.05</td><td>43.28</td><td>30.24</td><td>29.02</td><td>30.32</td><td>26.26</td><td>31.12</td><td>39.93</td><td>41.88</td><td>28.62</td><td>32.01</td><td>34.57</td><td>31.45</td><td>40.1</td><td>31.34</td><td>41.86</td><td>28.5</td><td>39.93</td><td>34.1</td><td>37.28</td><td>31.43</td><td>26.72</td><td>26.9</td><td>41.88</td><td>25.54</td><td>33.47</td><td>34.59</td><td>27.75</td><td>33.57</td><td>28.92</td><td>33.17</td><td>36.59</td><td>27.94</td><td>38.9</td><td>30.95</td><td>41.62</td><td>28.15</td><td>26.24</td><td>30.78</td><td>34.63</td><td>42.42</td><td>32.77</td><td>31.56</td><td>39.26</td><td>32.49</td><td>27.14</td><td>27.5</td><td>25.72</td><td>32.58</td><td>30.62</td><td>34.1</td><td>34.58</td><td>44.99</td><td>33.37</td><td>29.1</td><td>42.8</td><td>41.51</td><td>40.63</td><td>26.24</td><td>42.82</td><td>31.08</td><td>34.32</td><td>28.91</td><td>27.19</td><td>31.78</td><td>34.27</td><td>22.04</td><td>32.45</td><td>30.38</td><td>28.33</td></tr>\n",
       "</table>"
      ],
      "text/plain": [
       "<Table length=1>\n",
       " col0_1   col1_1  col2_1  col3_1  col4_1 ... col128_2 col129_2 col130_2 col131_2\n",
       "float64  float64 float64 float64 float64 ... float64  float64  float64  float64 \n",
       "-------- ------- ------- ------- ------- ... -------- -------- -------- --------\n",
       "112400.0  1530.0 10690.0  1688.0  6314.0 ...    22.04    32.45    30.38    28.33"
      ]
     },
     "execution_count": 59,
     "metadata": {},
     "output_type": "execute_result"
    }
   ],
   "source": [
    "a = Table([T_M[i] for i in range(len(T_M))])\n",
    "b = Table([T_z[i] for i in range(len(T_z))])\n",
    "# a[0]\n",
    "all_evol = hstack([a, b])\n",
    "# all_evol[:1]\n",
    "df = all_evol.to_pandas()\n",
    "np.savetxt('all_evol.txt', df.values, fmt='%5.2e')\n",
    "\n",
    "all_evol[:1]\n"
   ]
  },
  {
   "cell_type": "code",
   "execution_count": 54,
   "metadata": {},
   "outputs": [],
   "source": []
  },
  {
   "cell_type": "code",
   "execution_count": 58,
   "metadata": {},
   "outputs": [],
   "source": [
    "M_Wang, l_Wang, z_Wang, t_Wang = T_M_Wang[i], T_l_Wang[i], T_z_Wang[i], T_t_Wang[i]\n",
    "reach_Wang21 = hstack([M_Wang, z_Wang])\n",
    "df = reach_Wang21.to_pandas()\n",
    "np.savetxt('reach_Wang21.txt', df.values, fmt='%5.2e')"
   ]
  },
  {
   "cell_type": "code",
   "execution_count": 6,
   "metadata": {},
   "outputs": [],
   "source": [
    "def tick_function(X):\n",
    "    V = 535*((1+X)/10)**(-3/2)\n",
    "    return [\"%d\" % z for z in V]"
   ]
  },
  {
   "cell_type": "code",
   "execution_count": 7,
   "metadata": {},
   "outputs": [
    {
     "name": "stdout",
     "output_type": "stream",
     "text": [
      "29.57574315558869 18.26151120895264 13.699284142659158 9.456757069564262 6.066678746192224\n"
     ]
    }
   ],
   "source": [
    "t_from_z(9)/Myr, tick_function(np.array([9]))\n",
    "print(z_tH(100),z_tH(200),\n",
    "z_tH(300),\n",
    "z_tH(500),\n",
    "z_tH(900))\n",
    "#     return 2./(3*H0*np.sqrt(Omega_m0)) * pow(1+z, -1.5)"
   ]
  },
  {
   "cell_type": "code",
   "execution_count": 8,
   "metadata": {},
   "outputs": [
    {
     "name": "stdout",
     "output_type": "stream",
     "text": [
      "1471 5\n",
      "132\n"
     ]
    }
   ],
   "source": [
    "print(len(M1), len(M1[M1>1e9]))\n",
    "print(min(len(T_M),1000))\n",
    "colors= ['C0','C1','C2','C4','C5']"
   ]
  },
  {
   "cell_type": "code",
   "execution_count": 55,
   "metadata": {},
   "outputs": [],
   "source": [
    "T_M_Wang = np.loadtxt('../temp/distf2N6_08212227_Mevol.txt') # each line a BH growth track; all end with M>1e8\n",
    "T_l_Wang = np.loadtxt('../temp/distf2N6_08212227_levol.txt') # each line a BH growth track; all end with M>1e8\n",
    "T_t_Wang = np.loadtxt('../temp/distf2N6_08212227_tevol.txt') # each line a lambda track; all end with M>1e8\n",
    "T_z_Wang = np.loadtxt('../temp/distf2N6_08212227_zevol.txt') # each line a lambda track; all end with M>1e8\n",
    "# print(T_M,T_z)\n",
    "i = 1177\n",
    "M_Wang, l_Wang, z_Wang, t_Wang = T_M_Wang[i], T_l_Wang[i], T_z_Wang[i], T_t_Wang[i]"
   ]
  },
  {
   "cell_type": "code",
   "execution_count": 10,
   "metadata": {
    "scrolled": false
   },
   "outputs": [
    {
     "name": "stdout",
     "output_type": "stream",
     "text": [
      "number of >1e9 MBH: 5\n",
      "5 5\n",
      "912.8900473748333 [ 81.3 100.1 118.8 137.6 156.3 175.1 193.8 212.6 231.3 250.1 268.9 287.6\n",
      " 306.4 325.1 343.9 362.6 381.4 400.1 418.9 437.7 456.4 475.2 493.9 512.7\n",
      " 531.4 550.2 568.9 587.7 606.5 625.2 644.  662.7 681.5 700.2 719.  737.7\n",
      " 756.5 775.3 794.  812.8 831.5 850.3 869.  887.8 906.5 912.9 912.9 912.9]\n",
      "0.2687\n"
     ]
    }
   ],
   "source": [
    "# %matplotlib inline\n",
    "\n",
    "fig, ax_f = plt.subplots(figsize=(10,8))\n",
    "for i in range(min(len(T_M),1000)):\n",
    "    plt.plot(T_z[i],T_M[i], c='grey', alpha=0.3,\n",
    "             rasterized=True,zorder=0\n",
    "            )\n",
    "\n",
    "M1 = T_M.transpose()[-1]\n",
    "ls = T_l.transpose()[-1]\n",
    "\n",
    "\n",
    "SMM1 = M1[M1>1e9]\n",
    "SMl1 = ls[M1>1e9]\n",
    "print('number of >1e9 MBH:',sum(M1>1e9))\n",
    "N_SMBH = len(SMM1)\n",
    "print(N_SMBH,len(SMl1))\n",
    "# same as prev. specially for >1e9 SMBHs\n",
    "print(t_end/Myr, T_t[M1>1e9][0])\n",
    "\n",
    "cm = plt.get_cmap('tab20b')\n",
    "NUM_COLORS = N_SMBH\n",
    "LINE_STYLES = ['solid', 'dashed', 'dashdot']\n",
    "NUM_STYLES = len(LINE_STYLES)\n",
    "\n",
    "for i in range(N_SMBH):\n",
    "#     lines = ax.plot(np.arange(10)*(i+1))\n",
    "#     lines[0].set_color(cm(i//NUM_STYLES*float(NUM_STYLES)/NUM_COLORS))\n",
    "#     lines[0].set_linestyle(LINE_STYLES[i%NUM_STYLES])\n",
    "    \n",
    "    lines = ax_f.plot(T_z[M1>1e9][i],T_M[M1>1e9][i],label='episodic growth'if i==0 else'_',zorder=1)\n",
    "#     lines[0].set_color(cm(i/NUM_COLORS))\n",
    "    lines[0].set_color(colors[i])    \n",
    "    lines[0].set_linestyle(LINE_STYLES[0%NUM_STYLES])\n",
    "\n",
    "    lines = ax_f.plot(T_z[M1>1e9][i],M1M0_e(SMM1[i],-(t_end-T_t[M1>1e9][i]*Myr),SMl1[i]),label=r'$\\lambda=\\lambda(z=6)$'if i==0 else'_',zorder=1)\n",
    "    lines[0].set_color(colors[i])    \n",
    "    lines[0].set_linestyle(LINE_STYLES[1%NUM_STYLES])\n",
    "\n",
    "    lines = ax_f.plot(T_z[M1>1e9][i],M1M0_e(SMM1[i],-(t_end-T_t[M1>1e9][i]*Myr),1),label=r'$\\lambda=1$'if i==0 else'_',zorder=1)\n",
    "    lines[0].set_color(colors[i])    \n",
    "    lines[0].set_linestyle(LINE_STYLES[2%NUM_STYLES])\n",
    "    \n",
    "    # plt.scatter(6,SMM1[i],marker='D',s=30,c='C%d'%i)\n",
    "\n",
    "\n",
    "ax_f.plot(z_Wang,M_Wang, c='red', zorder=2)\n",
    "ax_f.plot(z_Wang,M1M0_e(M_Wang[-1],-(t_end-t_Wang*Myr),l_Wang[-1]),'--',c='red',zorder=1)\n",
    "ax_f.plot(z_Wang,M1M0_e(M_Wang[-1],-(t_end-t_Wang*Myr),1),'-.',c='red',zorder=1)\n",
    "\n",
    "\n",
    "plt.scatter(7.642,1.6e9,marker='D',facecolor='red',s=40,edgecolor='red',zorder=3)\n",
    "print(l_Wang[-1])"
   ]
  },
  {
   "cell_type": "code",
   "execution_count": 11,
   "metadata": {},
   "outputs": [],
   "source": [
    "ax_f.set_yscale(\"log\")\n",
    "ax_f.set_ylim(5e0,3e11)\n",
    "ax_f.set_xlim(30,5)\n",
    "\n",
    "ax_f.set_ylabel(r'$\\mathrm{M_{\\bullet}~(M_\\odot)}$',fontsize=fslabel)\n",
    "ax_f.set_xlabel('z',fontsize=fslabel)\n",
    "ax_f.tick_params(labelsize = fslabel)\n",
    "ax_f.legend(loc='upper left')\n",
    "ax_f.legend(loc=2,fontsize=18,ncol=1)  \n",
    "\n",
    "# ax.zaxis.set_major_locator(LinearLocator(10))\n",
    "#     ax.zaxis.set_major_formatter(FormatStrFormatter('%.02f'))\n",
    "locmajx = FixedLocator(np.arange(30,4,-5)) # subs=(0.2,0.4,0.6,0.8)\n",
    "locminx = FixedLocator(np.arange(30,4,-1)) # subs=(0.2,0.4,0.6,0.8)\n",
    "ax_f.xaxis.set_major_locator(locmajx)\n",
    "ax_f.xaxis.set_minor_locator(locminx)\n",
    "ax_f.xaxis.set_minor_formatter(matplotlib.ticker.NullFormatter())\n",
    "\n",
    "locmajy = LogLocator(base=100,numticks=100)\n",
    "locminy = LogLocator(base=10,subs=np.arange(2, 10) * .1,numticks=100) # subs=(0.2,0.4,0.6,0.8)\n",
    "ax_f.yaxis.set_major_locator(locmajy)\n",
    "ax_f.yaxis.set_minor_locator(locminy)\n",
    "ax_f.yaxis.set_minor_formatter(matplotlib.ticker.NullFormatter())\n",
    "ax_f.tick_params(which=\"both\",right='on',direction=\"in\")#, left=\"off\",labelleft=\"on\")\n",
    "\n",
    "\n",
    "ax2 = ax_f.twiny()\n",
    "new_tick_locations = np.array([29.5757, 18.2615, 13.6992, 9.4567, 6.0666][::-1])\n",
    "locmajx = FixedLocator(new_tick_locations)\n",
    "ax2.xaxis.set_major_locator(locmajx)\n",
    "ax2.xaxis.set_minor_formatter(matplotlib.ticker.NullFormatter())\n",
    "# ax_f.grid(b=True,alpha=0.3)\n",
    "# ax2.set_xticks(new_tick_locations)\n",
    "ax2.set_xticklabels(tick_function(new_tick_locations))\n",
    "ax2.set_xlim(ax_f.get_xlim())\n",
    "ax2.set_xlabel(r\"Cosmic age (Myr)\",fontsize=fslabel)\n",
    "ax2.tick_params(labelsize = fslabel)\n",
    "\n",
    "# ax_f.tick_params(axis='both', left=True, top=False, right=True, bottom=False, labelleft=True, labeltop=False, labelright=False, labelbottom=False)\n",
    "\n",
    "# plt.rcParams['xtick.direction']='in'\n",
    "# plt.rcParams['ytick.direction']='in'\n",
    "# plt.rcParams['axes.linewidth'] = 1.5\n",
    "# plt.rcParams['xtick.major.size'] = 8\n",
    "# plt.rcParams['xtick.minor.size'] = 4\n",
    "# plt.rcParams['ytick.major.size'] = 6\n",
    "# plt.rcParams['ytick.minor.size'] = 3\n",
    "# plt.rcParams['ytick.minor.size'] = 3\n",
    "# plt.rcParams['xtick.major.width']= 3.0\n",
    "# plt.rcParams['ytick.major.width']= 3.0\n",
    "# plt.rcParams['xtick.minor.width']= 1.5\n",
    "# plt.rcParams['ytick.minor.width']= 1.5\n",
    "# plt.rcParams['ytick.right']=plt.rcParams['xtick.top']=True\n",
    "# plt.rcParams['font.size']= 24\n",
    "# plt.rcParams[‘font.family’]=‘Times New Roman’\n",
    "\n",
    "# secax = ax_f.secondary_yaxis(1.0)\n",
    "# secax = ax_f.secondary_yaxis(1.0)\n",
    "# # secax.set_yticks([1e2,1e4,1e6,1e8,1e10])\n",
    "# # secax.yaxis.set_major_locator(ticker.NullLocator())\n",
    "# # secax.xaxis.set_minor_locator(ticker.NullLocator())\n",
    "# secax.tick_params(direction='in')\n",
    "# secax.yaxis.set_minor_formatter(matplotlib.ticker.NullFormatter())\n",
    "\n",
    "# # ax_f.tick_params( bottom=False, top=False, left=True, right=False)\n",
    "# # ax_f.tick_params( labelbottom=True, labeltop=False, labelleft=True, labelright=False)\n",
    "# ax_f.tick_params(labelright=False)    \n",
    "\n",
    "# labels = [item.get_text() for item in secax.get_yticklabels()]\n",
    "\n",
    "# empty_string_labels = ['']*len(labels)\n",
    "# secax.set_yticklabels(empty_string_labels)\n",
    "\n",
    "# plot_axis_tick(ax_f,np.arange(30,5,-1),np.logspace(1,11,num=10))\n",
    "# plt.tick_params(\n",
    "#     axis='x',          # changes apply to the x-axis\n",
    "#     which='both',      # both major and minor ticks are affected\n",
    "# #     la=False,      # ticks along the bottom edge are off\n",
    "#     top=False,         # ticks along the top edge are off\n",
    "#     labelright=False)\n",
    "# secax.set_yticklabels(labs)\n",
    "#ax.annotate(\"-1\",xy=(300,1e-8),fontsize=21, weight='bold', color='k')\n",
    "fig.savefig(figpre+'Mevol.png', dpi=400, bbox_inches='tight',reasterized=False)\n"
   ]
  },
  {
   "cell_type": "raw",
   "metadata": {},
   "source": [
    "# from Yang Li\n",
    "from matplotlib.ticker import MultipleLocator\n",
    "plt.style.use(\"classic\")\n",
    "plt.rc('font',family='Times New Roman')\n",
    "def plot_axis_tick(ax, xmajor, ymajor, xminor=None, yminor=None, Lymajor=5, Lyminor=3, Lxmajor=5, Lxminor=3,labsize=15,cc='k'):\n",
    "    \n",
    "    ax.xaxis.set_major_locator(MultipleLocator(float(xmajor)))\n",
    "    ax.yaxis.set_major_locator(MultipleLocator(float(ymajor)))\n",
    "    if xminor is not None:\n",
    "        ax.xaxis.set_minor_locator(MultipleLocator(float(xminor)))\n",
    "        ax.xaxis.set_tick_params(which='minor',labelsize=labsize,length=Lxminor,width=1.,color=cc)\n",
    "    if yminor is not None:\n",
    "        ax.yaxis.set_minor_locator(MultipleLocator(float(yminor)))\n",
    "        ax.yaxis.set_tick_params(which='minor',labelsize=labsize,length=Lyminor,width=1.,color=cc)\n",
    "    \n",
    "    ax.xaxis.set_tick_params(which='major',labelsize=labsize,length=Lxmajor,width=1.,color=cc)\n",
    "    ax.yaxis.set_tick_params(which='major',labelsize=labsize,length=Lymajor,width=1.,color=cc)\n",
    "\n"
   ]
  },
  {
   "cell_type": "raw",
   "metadata": {},
   "source": [
    "# demo: >10 colors from colormap \n",
    "\n",
    "%matplotlib inline\n",
    "\n",
    "NUM_COLORS = 20\n",
    "LINE_STYLES = ['solid', 'dashed', 'dashdot', 'dotted']\n",
    "NUM_STYLES = len(LINE_STYLES)\n",
    "\n",
    "cm = plt.get_cmap('gist_rainbow')\n",
    "cm = plt.get_cmap('rainbow')\n",
    "cm = plt.get_cmap('RdYlBu')\n",
    "cm = plt.get_cmap('Spectral')\n",
    "cm = plt.get_cmap('tab20b')\n",
    "fig = plt.figure()\n",
    "ax = fig.add_subplot(111)\n",
    "for i in range(NUM_COLORS):\n",
    "    lines = ax.plot(np.arange(10)*(i+1))\n",
    "    lines[0].set_color(cm(i//NUM_STYLES*float(NUM_STYLES)/NUM_COLORS))\n",
    "    lines[0].set_linestyle(LINE_STYLES[i%NUM_STYLES])\n",
    "\n",
    "fig.savefig('moreColors.png')\n",
    "plt.show()\n",
    "\n",
    "NUM_COLORS = 20\n",
    "\n",
    "cm = plt.get_cmap('gist_rainbow')\n",
    "fig = plt.figure()\n",
    "ax = fig.add_subplot(111)\n",
    "ax.set_prop_cycle([cm(1.*i/NUM_COLORS) for i in range(NUM_COLORS)])\n",
    "for i in range(NUM_COLORS):\n",
    "    line =ax.plot(np.arange(10)*(i+1))\n",
    "#     line.set_color(cm)\n",
    "\n",
    "fig.savefig('moreColors.png')\n",
    "plt.show()"
   ]
  },
  {
   "cell_type": "markdown",
   "metadata": {},
   "source": [
    "# $\\lambda$ dist. at z=6 for all BHs(>1e8) \\& SMBHs"
   ]
  },
  {
   "cell_type": "code",
   "execution_count": 12,
   "metadata": {},
   "outputs": [],
   "source": [
    "prex = '../temp/distf2N5_08211127_'"
   ]
  },
  {
   "cell_type": "code",
   "execution_count": 13,
   "metadata": {},
   "outputs": [
    {
     "name": "stdout",
     "output_type": "stream",
     "text": [
      "14102\n"
     ]
    }
   ],
   "source": [
    "T_M = np.loadtxt(prex+'Mevol.txt') # each line a BH growth track; all end with M>1e8\n",
    "T_l = np.loadtxt(prex+'levol.txt') # each line a BH growth track; all end with M>1e8\n",
    "T_t = np.loadtxt(prex+'tevol.txt') # each line a lambda track; all end with M>1e8\n",
    "T_z = np.loadtxt(prex+'zevol.txt') # each line a lambda track; all end with M>1e8\n",
    "print(len(T_M))\n",
    "\n",
    "M1 = T_M.transpose()[-1]"
   ]
  },
  {
   "cell_type": "code",
   "execution_count": 14,
   "metadata": {},
   "outputs": [
    {
     "data": {
      "text/plain": [
       "'min M1=1.0e+07'"
      ]
     },
     "execution_count": 14,
     "metadata": {},
     "output_type": "execute_result"
    }
   ],
   "source": [
    "('min M1=%.1e'%np.min(M1))"
   ]
  },
  {
   "cell_type": "code",
   "execution_count": 15,
   "metadata": {},
   "outputs": [],
   "source": [
    "x0 = lambda_0/l_cut\n",
    "I_toinf = integral_toinf(a,x0)\n",
    "# x = np.logspace(np.log10(x0),1.2,num=200)\n",
    "# Pa_x = integral(a,x,x0)/I_toinf\n",
    "\n",
    "# lbin = np.linspace(-2,1.2,num=20)\n",
    "# hist, bin_edges = np.histogram(np.log10(ls),bins=lbin,density=False)\n",
    "# x = np.logspace(lbin[0]-np.log10(l_cut),lbin[-1]-np.log10(l_cut),num=len(lbin)) # for Pana\n",
    "# Pana = integral(a,x,x0)/I_toinf"
   ]
  },
  {
   "cell_type": "code",
   "execution_count": 16,
   "metadata": {},
   "outputs": [],
   "source": [
    "# %matplotlib inline\n",
    "# prex = '../temp/distf2N5_08211114_'\n",
    "# prex = '../temp/distf2N5_08211127_'\n",
    "\n",
    "T_z6 = ascii.read(prex+'BHatz6.txt', guess=False, delimiter=' ')\n",
    "M1, ls, L1, M1450_1 = T_z6['M1'], T_z6['ls'], T_z6['L1'], T_z6['M1450_1']"
   ]
  },
  {
   "cell_type": "code",
   "execution_count": 17,
   "metadata": {},
   "outputs": [
    {
     "data": {
      "text/plain": [
       "[<matplotlib.lines.Line2D at 0x11befa438>]"
      ]
     },
     "execution_count": 17,
     "metadata": {},
     "output_type": "execute_result"
    }
   ],
   "source": [
    "\n",
    "# write lambda histogram: lbin, hist_tot, hist_L46, Pana\n",
    "lbin = np.linspace(-2,1.2,num=20)\n",
    "hist, bin_edges = np.histogram(np.log10(ls),bins=lbin,density=False)\n",
    "x = np.logspace(lbin[0]-np.log10(l_cut),lbin[-1]-np.log10(l_cut),num=len(lbin)) # for Pana\n",
    "Pana = integral(a,x,x0)/I_toinf\n",
    "\n",
    "x = (lbin[:-1]+lbin[1:])/2.\n",
    "wid = lbin[1:]-lbin[:-1]\n",
    "plt.bar(x, hist/len(ls), width=wid,color='C'+str(0),alpha=0.5,label='total')\n",
    "plt.plot(x,Pana[1:]-Pana[:-1])"
   ]
  },
  {
   "cell_type": "code",
   "execution_count": 18,
   "metadata": {},
   "outputs": [
    {
     "name": "stdout",
     "output_type": "stream",
     "text": [
      "len(ls) after selection: 5234  /  100000\n",
      "len(ls) after selection: 480  /  100000\n"
     ]
    }
   ],
   "source": [
    "T_z6 = ascii.read(prex+'BHatz6.txt', guess=False, delimiter=' ')\n",
    "M1, ls, L1, M1450_1 = T_z6['M1'], T_z6['ls'], T_z6['L1'], T_z6['M1450_1']\n",
    "\n",
    "\n",
    "# # MF histogram comparing w/ Phi_easy \n",
    "# hist, bin_edges = np.histogram(M1,bins=abin_mf,density=False)\n",
    "# hist = hist*n_base*f_bsm*f_seed/N/dlog10M\n",
    "# ascii.write(Table([np.log10(M_BH),hist,MF(M_BH)]), \n",
    "# z6datapre+f_seedlabel+'Mdist_evolMFz{:d}_t{:d}_d{:d}'.format(int(z1),int(t_life/Myr),int(abs(logd_fit))),\n",
    "# names=['M_BH','hist','W10'],\n",
    "# formats={'M_BH':'10.2e','hist':'10.2e','W10':'10.2e'},\n",
    "# overwrite=True)\n",
    "\n",
    "# # LF histogram comparing w/ Phi_easy \n",
    "# hist, bin_edges = np.histogram(M1450_1,bins=bin_edg,density=False)\n",
    "# hist = hist*n_base*f_bsm*f_seed/N/bin_wid*1e9\n",
    "# hist_DO = hist/corr_U14D20(bin_cen)\n",
    "# ascii.write(Table([bin_cen,Phi_obs,hist_DO,hist]), \n",
    "# z6datapre+f_seedlabel+'Mdist_evolLFz{:d}_t{:d}_d{:d}'.format(int(z1),int(t_life/Myr),int(abs(logd_fit))),\n",
    "# names=['M1450','Phi_obs','hist_DO','hist'],\n",
    "# formats={'M1450':'10.2f','hist':'10.2e','hist_DO':'10.2e','Phi_obs':'10.2e'},\n",
    "# overwrite=True)\n",
    "\n",
    "# write lambda histogram: lbin, hist_tot, hist_L46, Pana\n",
    "lbin = np.linspace(-2,1.2,num=20)\n",
    "hist, bin_edges = np.histogram(np.log10(ls),bins=lbin,density=False)\n",
    "x = np.logspace(lbin[0]-np.log10(l_cut),lbin[-1]-np.log10(l_cut),num=len(lbin)) # for Pana\n",
    "Pana = integral(a,x,x0)/I_toinf\n",
    "\n",
    "for L_limit in [1e45,1e46]:\n",
    "    index = np.where(L_limit<L1)\n",
    "    M1_ = M1[index]; L1_ = L1[index]; ls_ = ls[index]\n",
    "    print('len(ls) after selection:',len(ls_),' / ',len(ls))\n",
    "    hist_, bin_edges = np.histogram(np.log10(ls_),bins=lbin,density=False)\n",
    "\n",
    "    strhist_ = 'hist_L%d'%(int(np.log10(L_limit)))\n",
    "    # lambda histogram file\n",
    "    ascii.write(Table([bin_edges[:-1],hist_/len(ls),hist/len(ls),Pana[1:]-Pana[:-1]]), \n",
    "    prex+strhist_+'.txt',\n",
    "    names=['log_l',strhist_,'hist_tot','ana'],\n",
    "    formats={'log_l':'10.2f',strhist_:'10.2e','hist_tot':'10.2e','ana':'10.2e'},\n",
    "    overwrite=True)"
   ]
  },
  {
   "cell_type": "code",
   "execution_count": 19,
   "metadata": {
    "scrolled": true
   },
   "outputs": [
    {
     "name": "stdout",
     "output_type": "stream",
     "text": [
      "sum(hist_tot)=1.00e+00,sum(hist_):5.23e-02\n",
      "False\n",
      "sum(hist_tot)=1.00e+00,sum(hist_):4.80e-03\n",
      "False\n"
     ]
    }
   ],
   "source": [
    "# plot z=6 λ dist.\n",
    "plt.figure(figsize=(10,7))\n",
    "x = (lbin[:-1]+lbin[1:])/2.\n",
    "wid = lbin[1:]-lbin[:-1]\n",
    "dlogl = lbin[1]-lbin[0]\n",
    "\n",
    "for L_limit in [1e45,1e46]:\n",
    "    strhist_ = 'hist_L%d'%(int(np.log10(L_limit)))\n",
    "    lbin = np.linspace(-2,1.2,num=20)\n",
    "    T_hist = ascii.read(prex+strhist_+'.txt', guess=False, delimiter=' ')\n",
    "    left_of_lbin, hist_, hist_tot, ana = T_hist['log_l'],T_hist[strhist_],T_hist['hist_tot'],T_hist['ana']\n",
    "    print('sum(hist_tot)={0:.2e},sum(hist_):{1:.2e}'.format(np.sum(hist_tot),np.sum(hist_)))\n",
    "    print(np.allclose(lbin[:-1],left_of_lbin))\n",
    "\n",
    "    if L_limit == 1e45:\n",
    "        plt.bar(x, 5*hist_/dlogl,   width=wid,color='C'+str(1),alpha=0.5,\n",
    "                label=r'$5\\times \\mathcal{p(\\lambda)}~ \\mathrm{(L>L_{45})}$',zorder=2)\n",
    "#                 label=r'$\\mathrm{5\\times \\frac{dP}{d\\ln \\lambda}~ ({L>10^{45} erg/s})}$',zorder=1)\n",
    "    if L_limit == 1e46:\n",
    "        plt.bar(x, 30*hist_/dlogl,   width=wid,color='C'+str(2),alpha=0.5,\n",
    "                label=r'$30\\times \\mathcal{p(\\lambda)}~ \\mathrm{(L>L_{46})}$',zorder=2)\n",
    "#                 label=r'$\\mathrm{30\\times \\frac{dP}{d\\ln \\lambda}~ ({L>10^{46} erg/s})}$',zorder=1)\n",
    "\n",
    "plt.bar(x, hist_tot/dlogl,width=wid,color='C'+str(0),alpha=0.5,\n",
    "#         label=r'$\\mathrm{\\frac{dP}{d\\log \\lambda} ~(all ~L)}$',zorder=0)\n",
    "        label=r'$\\mathcal{p(\\lambda)}$'+' (all L)',zorder=0)\n",
    "\n",
    "#         label='all L',zorder=0)\n",
    "# index = np.logical_and(1e7<x, x<1e10)\n",
    "plt.plot(x, ana/dlogl, '--',c='black',lw=2, label=r'$\\mathcal{p(\\lambda)}$'+' (analytic)')\n",
    "plt.tick_params(labelsize=fstick)\n",
    "plt.xlabel(r'$\\log\\lambda$',fontsize=fslabel)\n",
    "plt.ylabel(r'$\\mathcal{p(\\lambda)}=\\mathrm{d P/ d \\log \\lambda}$',fontsize=fslabel)\n",
    "# plt.ylabel(r'$\\mathrm{\\Phi}$'+' '+r'$\\mathrm{\\left(Mpc^{-3}dex^{-1}\\right)}$',fontsize=fslabel)\n",
    "plt.xlim(-2.3,1.9); \n",
    "plt.ylim(0,0.6)\n",
    "plt.legend(fontsize=fslegend,loc='best')\n",
    "plt.savefig(figpre+'l_hist.png', dpi=300, bbox_inches='tight')"
   ]
  },
  {
   "cell_type": "code",
   "execution_count": 20,
   "metadata": {},
   "outputs": [
    {
     "data": {
      "text/plain": [
       "(-10.24941018841286, -8.501985177572813)"
      ]
     },
     "execution_count": 20,
     "metadata": {},
     "output_type": "execute_result"
    }
   ],
   "source": [
    "M1450_Lbol(5e40), M1450_Lbol(1e40)"
   ]
  },
  {
   "cell_type": "markdown",
   "metadata": {},
   "source": [
    "# $f_{duty}$"
   ]
  },
  {
   "cell_type": "code",
   "execution_count": 21,
   "metadata": {},
   "outputs": [],
   "source": [
    "prex = '../temp/distf2N5_08211127_'"
   ]
  },
  {
   "cell_type": "code",
   "execution_count": 22,
   "metadata": {},
   "outputs": [
    {
     "name": "stdout",
     "output_type": "stream",
     "text": [
      "14102\n"
     ]
    }
   ],
   "source": [
    "\n",
    "T_M = np.loadtxt(prex+'Mevol.txt') # each line a BH growth track; all end with M>1e8\n",
    "T_l = np.loadtxt(prex+'levol.txt') # each line a BH growth track; all end with M>1e8\n",
    "T_t = np.loadtxt(prex+'tevol.txt') # each line a lambda track; all end with M>1e8\n",
    "T_z = np.loadtxt(prex+'zevol.txt') # each line a lambda track; all end with M>1e8\n",
    "print(len(T_M))\n",
    "\n",
    "M1 = T_M.transpose()[-1]\n"
   ]
  },
  {
   "cell_type": "code",
   "execution_count": 23,
   "metadata": {},
   "outputs": [
    {
     "name": "stdout",
     "output_type": "stream",
     "text": [
      "1.0e+07\n"
     ]
    }
   ],
   "source": [
    "print('%.1e'%np.min(M1))"
   ]
  },
  {
   "cell_type": "code",
   "execution_count": 24,
   "metadata": {},
   "outputs": [
    {
     "name": "stdout",
     "output_type": "stream",
     "text": [
      "f2 duty cycle l>1.00 from z=10: 0.118\n"
     ]
    }
   ],
   "source": [
    "# f_duty (λ>1) in growth history, v.s. final M_BH\n",
    "plt.figure(figsize=(10,10),dpi=400)\n",
    "f_duty = np.zeros(len(T_M))\n",
    "f_2 = 0\n",
    "t_start = t_from_z(10.)/Myr\n",
    "for i in range(len(T_M)):\n",
    "    len_series = np.argmax(T_M[i]) + 1\n",
    "    ts = np.arange(tz,t0-t_life,-t_life)[:len_series]\n",
    "    l1s = T_l[i][:len_series]\n",
    "    # f_duty: Δt of λ>1 cycles, devided by total Δt\n",
    "    l_crit = 1.\n",
    "    # l_crit = l_cut\n",
    "    f_duty[i] = t_life*np.sum(l1s>l_crit)/(ts[0]-ts[-1])\n",
    "    f_2 += t_life * np.sum(l1s[ts>t_start]>l_crit)/(tz-t_start)\n",
    "print(f_seedlabel+' duty cycle l>{:.2f} from z=10: {:.3f}'.format(l_crit,f_2/len(T_M)))\n"
   ]
  },
  {
   "cell_type": "code",
   "execution_count": 25,
   "metadata": {},
   "outputs": [],
   "source": [
    "\n",
    "plt.scatter(M1,f_duty)\n",
    "plt.xscale('log')\n",
    "# plt.ylim(1e2,1e10)\n",
    "plt.grid(True)\n",
    "plt.xlabel(r'$\\mathrm{M_{BH}~(M_\\odot)}$',fontsize=fslabel)\n",
    "plt.ylabel(r'$\\mathrm{f_{duty}~(\\lambda>1)}$',fontsize=fslabel)\n",
    "# plt.legend(loc='best',fontsize=fslabel)\n",
    "plt.xticks(fontsize=fstick);plt.yticks(fontsize=fstick)\n",
    "# plt.savefig('./f_dutyM%d.png'%(int(np.log10(M_low))), dpi=300, bbox_inches='tight')\n",
    "plt.savefig('./f_duty.png', dpi=300, bbox_inches='tight')\n",
    "\n"
   ]
  },
  {
   "cell_type": "code",
   "execution_count": 26,
   "metadata": {},
   "outputs": [
    {
     "name": "stdout",
     "output_type": "stream",
     "text": [
      "10000000.0\n",
      "1.0e+07 0.12 55.1\n",
      "100000000.0\n",
      "1.0e+08 0.15 69.0\n",
      "1000000000.0\n",
      "1.0e+09 0.19 85.4\n"
     ]
    }
   ],
   "source": [
    "for M_low in [1e7,1e8,1e9]:\n",
    "    print(M_low)\n",
    "    f_mean = np.mean(f_duty[M1>M_low])\n",
    "    print('%.1e'%M_low, '%.2f'%f_mean, '%.1f'%(f_mean*450))"
   ]
  },
  {
   "cell_type": "code",
   "execution_count": 27,
   "metadata": {},
   "outputs": [
    {
     "data": {
      "text/plain": [
       "-449.46819954646895"
      ]
     },
     "execution_count": 27,
     "metadata": {},
     "output_type": "execute_result"
    }
   ],
   "source": [
    "(t_from_z(10)-t_from_z(6))/Myr"
   ]
  },
  {
   "cell_type": "code",
   "execution_count": 28,
   "metadata": {},
   "outputs": [
    {
     "data": {
      "text/plain": [
       "'$\\\\mathrm{\\\\lambda}$'"
      ]
     },
     "execution_count": 28,
     "metadata": {},
     "output_type": "execute_result"
    }
   ],
   "source": [
    "label = r'$\\mathrm{\\lambda}$'\n",
    "label"
   ]
  },
  {
   "cell_type": "markdown",
   "metadata": {},
   "source": [
    "## successive super-Eddington"
   ]
  },
  {
   "cell_type": "code",
   "execution_count": 29,
   "metadata": {
    "scrolled": true
   },
   "outputs": [
    {
     "name": "stdout",
     "output_type": "stream",
     "text": [
      "14102\n",
      "48 14102 14102\n"
     ]
    },
    {
     "data": {
      "text/plain": [
       "(array([1.713e+05, 1.976e+05, 2.110e+05, 2.126e+05, 2.494e+05, 2.561e+05,\n",
       "        3.268e+05, 5.366e+05, 6.545e+05, 1.172e+06, 1.346e+06, 1.357e+06,\n",
       "        1.564e+06, 2.156e+06, 2.177e+06, 2.327e+06, 3.024e+06, 3.084e+06,\n",
       "        2.841e+07, 2.870e+07, 3.744e+07, 3.806e+07, 3.893e+07, 5.530e+07,\n",
       "        5.599e+07, 6.050e+07, 6.075e+07, 6.143e+07, 6.895e+07, 7.604e+07,\n",
       "        1.040e+08, 1.045e+08, 1.051e+08, 1.459e+08, 1.642e+08, 1.795e+08,\n",
       "        4.432e+08, 5.615e+08, 7.875e+08, 8.182e+08, 8.515e+08, 8.990e+08,\n",
       "        9.030e+08, 9.452e+08, 1.142e+09, 1.150e+09, 1.150e+09, 1.150e+09]),\n",
       " array([0.01   , 0.2943 , 0.1353 , 0.01598, 0.3303 , 0.05527, 0.5079 ,\n",
       "        1.042  , 0.4207 , 1.245  , 0.2991 , 0.0182 , 0.3071 , 0.6994 ,\n",
       "        0.02054, 0.146  , 0.576  , 0.04326, 5.04   , 0.02326, 0.6237 ,\n",
       "        0.03828, 0.05347, 0.831  , 0.02929, 0.1844 , 0.01007, 0.02635,\n",
       "        0.276  , 0.2346 , 0.755  , 0.01047, 0.01452, 0.7973 , 0.289  ,\n",
       "        0.2189 , 2.25   , 0.5983 , 0.8628 , 0.09819, 0.1023 , 0.1398 ,\n",
       "        0.01148, 0.1174 , 0.4892 , 0.04983, 0.3836 , 0.01296]),\n",
       " array([ 80.82,  99.57, 118.3 , 137.1 , 155.8 , 174.6 , 193.4 , 212.1 ,\n",
       "        230.9 , 249.6 , 268.4 , 287.1 , 305.9 , 324.6 , 343.4 , 362.2 ,\n",
       "        380.9 , 399.7 , 418.4 , 437.2 , 455.9 , 474.7 , 493.4 , 512.2 ,\n",
       "        531.  , 549.7 , 568.5 , 587.2 , 606.  , 624.7 , 643.5 , 662.2 ,\n",
       "        681.  , 699.8 , 718.5 , 737.3 , 756.  , 774.8 , 793.5 , 812.3 ,\n",
       "        831.  , 849.8 , 868.6 , 887.3 , 906.1 , 912.9 , 912.9 , 912.9 ]))"
      ]
     },
     "execution_count": 29,
     "metadata": {},
     "output_type": "execute_result"
    }
   ],
   "source": [
    "prex = '../temp/distf2N5_08211127_'\n",
    "\n",
    "T_M = np.loadtxt(prex+'Mevol.txt') # each line a BH growth track; all end with M>1e8\n",
    "T_l = np.loadtxt(prex+'levol.txt') # each line a BH growth track; all end with M>1e8\n",
    "T_t = np.loadtxt(prex+'tevol.txt') # each line a lambda track; all end with M>1e8\n",
    "T_z = np.loadtxt(prex+'zevol.txt') # each line a lambda track; all end with M>1e8\n",
    "print(len(T_M))\n",
    "\n",
    "M1 = T_M.transpose()[-1]\n",
    "L1 = L_M(T_l.transpose()[-1], M1)\n",
    "print(len(T_M[0]), len(T_M), len(L1) ); \n",
    "T_M[0], T_l[0], T_t[0]"
   ]
  },
  {
   "cell_type": "code",
   "execution_count": 30,
   "metadata": {
    "scrolled": true
   },
   "outputs": [
    {
     "name": "stdout",
     "output_type": "stream",
     "text": [
      "[False False False  True  True False False  True  True  True False False]\n",
      "[False False False False  True  True False False  True  True  True False]\n",
      "tz-t_start, T_t[0]:  165.70090601523304 [ 80.82  99.57 118.3  137.1  155.8  174.6  193.4  212.1  230.9  249.6\n",
      " 268.4  287.1  305.9  324.6  343.4  362.2  380.9  399.7  418.4  437.2\n",
      " 455.9  474.7  493.4  512.2  531.   549.7  568.5  587.2  606.   624.7\n",
      " 643.5  662.2  681.   699.8  718.5  737.3  756.   774.8  793.5  812.3\n",
      " 831.   849.8  868.6  887.3  906.1  912.9  912.9  912.9 ]\n",
      "T_t[0][i_start] 756.0\n",
      "T_t[i_start:len_series] [756.  774.8 793.5 812.3 831.  849.8 868.6 887.3 906.1 912.9]\n"
     ]
    }
   ],
   "source": [
    "# example of counting successive sup-Edd\n",
    "a = np.array([0, 0, 0, 1.1, 1.2, 0, 0, 1.1, 1.2, 1.3, 0, 0])\n",
    "index = a>1\n",
    "\n",
    "index_displace= np.append([False],index[:-1])\n",
    "print(index); print(index_displace)\n",
    "np.sum(np.logical_and( index, index_displace))\n",
    "\n",
    "\n",
    "t_start = t_from_z(7.)/Myr\n",
    "print('tz-t_start, T_t[0]: ', tz-t_start, T_t[0])\n",
    "i_start = np.argmax(T_t[0]>t_start)\n",
    "print('T_t[0][i_start]',T_t[0][i_start])\n",
    "len_series = np.argmax(T_M[0]) + 1\n",
    "print('T_t[i_start:len_series]',T_t[0][i_start:len_series])"
   ]
  },
  {
   "cell_type": "markdown",
   "metadata": {},
   "source": [
    "# # pure P_two = 2*τ*N_two/t_total \n",
    "# # two super-Eddington probability defined as: P_two for one BH growth track, summing up the time fraction for all two successive super-Eddington phase\n"
   ]
  },
  {
   "cell_type": "code",
   "execution_count": 31,
   "metadata": {
    "scrolled": true
   },
   "outputs": [
    {
     "name": "stdout",
     "output_type": "stream",
     "text": [
      "f2 duty cycle l>1.00 from z=10: 0.118\n",
      "14102 0.027387456626649702\n",
      "10000000.0\n",
      "1.0e+07 0.12 55.7 0.03\n",
      "100000000.0\n",
      "1.0e+08 0.15 69.7 0.04\n",
      "1000000000.0\n",
      "1.0e+09 0.19 86.4 0.07\n"
     ]
    }
   ],
   "source": [
    "# f_duty (λ>1) in growth history, v.s. final M_BH\n",
    "f_duty = np.zeros(len(T_M))\n",
    "frac_supEdd_twice = np.zeros(len(T_M))\n",
    "f_2 = 0\n",
    "\n",
    "t_start = t_from_z(50.)/Myr\n",
    "for i in range(len(T_M)):\n",
    "    len_series = np.argmax(T_M[i]) + 1\n",
    "#     ts = np.arange(tz,t0-t_life,-t_life)[:len_series]\n",
    "    i_start = np.argmax(ts>t_start)\n",
    "\n",
    "    ts = T_t[i][i_start:len_series]\n",
    "    l1s = T_l[i][i_start:len_series]\n",
    "    # f_duty: Δt of λ>1 cycles, devided by total Δt\n",
    "    l_crit = 1.\n",
    "    supEdd = l1s>l_crit\n",
    "    supEdd_displace = np.append([False],supEdd[:-1])\n",
    "    t_supEdd_twice = 2*t_life*np.sum(np.logical_and(supEdd, supEdd_displace))\n",
    "    frac_supEdd_twice[i] = t_supEdd_twice/(ts[-1]-ts[0])\n",
    "\n",
    "    f_duty[i] = t_life*np.sum(l1s>l_crit)/(ts[-1]-ts[0])\n",
    "    f_2 += t_life * np.sum(l1s[ts>t_start]>l_crit)/(tz-t_start)\n",
    "print(f_seedlabel+' duty cycle l>{:.2f} from z=10: {:.3f}'.format(l_crit,f_2/len(T_M)))\n",
    "print(len(frac_supEdd_twice),np.mean(frac_supEdd_twice))\n",
    "\n",
    "\n",
    "# mean for sub-samples\n",
    "for M_low in [1e7,1e8,1e9]:\n",
    "    print(M_low)\n",
    "    f_mean = np.mean(f_duty[M1>M_low])\n",
    "    frac_supEdd_twice_mean = np.mean(frac_supEdd_twice[M1>M_low])\n",
    "    print('%.1e'%M_low, '%.2f'%f_mean, '%.1f'%(f_mean*450), '%.2f'%frac_supEdd_twice_mean)\n"
   ]
  },
  {
   "cell_type": "markdown",
   "metadata": {},
   "source": [
    "# # conditional probability; from t_start (z=7) to tz(z=6), for quasars with at least one active phase, how many of them experience two successive active phases.  "
   ]
  },
  {
   "cell_type": "code",
   "execution_count": 32,
   "metadata": {
    "scrolled": true
   },
   "outputs": [
    {
     "name": "stdout",
     "output_type": "stream",
     "text": [
      "f2 duty cycle l>1.00 from z=10: 0.118\n",
      "14099 14099 0.09898837203965226\n",
      "[1.150e+09 2.187e+08 1.260e+07 ... 2.089e+08 1.538e+07 2.180e+07]\n",
      "10000000.0\n",
      "1.0e+07 0.12 55.7 0.10\n",
      "100000000.0\n",
      "1.0e+08 0.15 69.7 0.13\n",
      "1000000000.0\n",
      "1.0e+09 0.19 86.4 0.18\n",
      "3 of 14102 no sup-Eddington phases during Dt\n"
     ]
    }
   ],
   "source": [
    "# f_duty (λ>1) in growth history, v.s. final M_BH\n",
    "f_duty = np.zeros(len(T_M))\n",
    "frac_supEdd_andagain = []\n",
    "M1_supEdd = []\n",
    "f_2 = 0\n",
    "\n",
    "t_start = t_from_z(50.)/Myr\n",
    "for i in range(len(T_M)):\n",
    "    len_series = np.argmax(T_M[i]) + 1\n",
    "#     ts = np.arange(tz,t0-t_life,-t_life)[:len_series]\n",
    "    i_start = np.argmax(ts>t_start)\n",
    "\n",
    "    ts = T_t[i][i_start:len_series]\n",
    "    l1s = T_l[i][i_start:len_series]\n",
    "    # f_duty: Δt of λ>1 cycles, devided by total Δt\n",
    "    l_crit = 1.\n",
    "    supEdd = l1s>l_crit\n",
    "    supEdd_displace = np.append([False],supEdd[:-1])\n",
    "    n_supEdd_twice = np.logical_and(supEdd, supEdd_displace)\n",
    "    if np.sum(supEdd)!=0:\n",
    "#         print(np.sum(n_supEdd_twice), np.sum(supEdd))\n",
    "        frac_supEdd_andagain.append(np.sum(n_supEdd_twice)/np.sum(supEdd))\n",
    "        M1_supEdd.append(M1[i])\n",
    "\n",
    "    f_duty[i] = t_life*np.sum(l1s>l_crit)/(ts[-1]-ts[0])\n",
    "    f_2 += t_life * np.sum(l1s[ts>t_start]>l_crit)/(tz-t_start)\n",
    "print(f_seedlabel+' duty cycle l>{:.2f} from z=10: {:.3f}'.format(l_crit,f_2/len(T_M)))\n",
    "print(len(frac_supEdd_andagain),len(M1_supEdd),np.mean(frac_supEdd_andagain))\n",
    "\n",
    "M1_supEdd = np.array(M1_supEdd); frac_supEdd_andagain = np.array(frac_supEdd_andagain)\n",
    "print(M1_supEdd)\n",
    "# mean for sub-samples\n",
    "for M_low in [1e7,1e8,1e9]:\n",
    "    print(M_low)\n",
    "    f_mean = np.mean(f_duty[M1>M_low])\n",
    "    frac_supEdd_andagain_mean = np.mean(frac_supEdd_andagain[M1_supEdd>M_low])\n",
    "    print('%.1e'%M_low, '%.2f'%f_mean, '%.1f'%(f_mean*450), '%.2f'%frac_supEdd_andagain_mean)\n",
    "print('{:d} of {:d} no sup-Eddington phases during Dt'.format(len(M1)-len(M1_supEdd),len(M1)))"
   ]
  },
  {
   "cell_type": "raw",
   "metadata": {},
   "source": [
    "L_M(1e8,1)\n",
    "np.min(L1),np.max(L1),len(M1),len(f_duty),len(frac_supEdd_twice)"
   ]
  },
  {
   "cell_type": "raw",
   "metadata": {},
   "source": [
    "for L_low in [1e43,1e44,1e45,1e46,1e47]:\n",
    "    print(L_low)\n",
    "    f_mean = np.mean(f_duty[L1>L_low])\n",
    "    frac_supEdd_twice_mean = np.mean(frac_supEdd_twice[L1>L_low])\n",
    "    print('%.1e'%L_low, '%.2f'%f_mean, '%.1f'%(f_mean*450), '%.2f'%frac_supEdd_twice_mean)"
   ]
  },
  {
   "cell_type": "code",
   "execution_count": null,
   "metadata": {},
   "outputs": [],
   "source": []
  }
 ],
 "metadata": {
  "kernelspec": {
   "display_name": "Python 3",
   "language": "python",
   "name": "python3"
  },
  "language_info": {
   "codemirror_mode": {
    "name": "ipython",
    "version": 3
   },
   "file_extension": ".py",
   "mimetype": "text/x-python",
   "name": "python",
   "nbconvert_exporter": "python",
   "pygments_lexer": "ipython3",
   "version": "3.7.3"
  }
 },
 "nbformat": 4,
 "nbformat_minor": 2
}
