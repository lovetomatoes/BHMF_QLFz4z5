{
 "cells": [
  {
   "cell_type": "code",
   "execution_count": 1,
   "metadata": {},
   "outputs": [],
   "source": [
    "from PYmodule import *\n",
    "from matplotlib.legend_handler import HandlerLine2D, HandlerTuple\n",
    "import matplotlib.ticker as ticker\n",
    "from scipy.ndimage.filters import gaussian_filter\n",
    "\n",
    "%matplotlib inline"
   ]
  },
  {
   "cell_type": "raw",
   "metadata": {},
   "source": [
    "prex = '../temp/distf2N5_08211127_'\n",
    "T_M = np.loadtxt(prex+'Mevol.txt') # each line a BH growth track; all end with M>1e8\n",
    "T_l = np.loadtxt(prex+'levol.txt') # each line a BH growth track; all end with M>1e8\n",
    "T_t = np.loadtxt(prex+'tevol.txt') # each line a lambda track; all end with M>1e8\n",
    "T_z = np.loadtxt(prex+'zevol.txt') # each line a lambda track; all end with M>1e8\n",
    "print(len(T_M))\n",
    "\n",
    "M1 = T_M.transpose()[-1]\n",
    "L1 = L_M(T_l.transpose()[-1], M1)\n",
    "M1 = M1[L1>1e46]\n",
    "L1 = L1[L1>1e46]"
   ]
  },
  {
   "cell_type": "code",
   "execution_count": 2,
   "metadata": {},
   "outputs": [],
   "source": [
    "# \n",
    "T_ = ascii.read('../temp/distf2N4_08211421_BHatz6.txt',guess=False, delimiter=' ')\n",
    "T_ = ascii.read('../temp/distf2N6_08212227_BHatz6.txt',guess=False, delimiter=' ')\n",
    "\n",
    "M1, L1, ls = T_['M1'], T_['L1'], T_['ls'] "
   ]
  },
  {
   "cell_type": "code",
   "execution_count": 3,
   "metadata": {},
   "outputs": [],
   "source": [
    "# M1 = M1[L1>1e46]\n",
    "# M1= M1[L1>1e46];  ls= ls[L1>1e46]; L1= L1[L1>1e46];\n",
    "# np.min(M1), np.min(L1)"
   ]
  },
  {
   "cell_type": "raw",
   "metadata": {},
   "source": [
    "ZA = plt.hist2d(np.log10(fitting['bayes.stellar.m_star']),np.log10(fitting['bayes.sfh.sfr']), bins=(40,34), alpha=1,cmap='Greys_r')\n",
    "data = np.transpose(ZA[0])\n",
    "dt = gaussian_filter(data, 0.9)\n",
    "plt.contour(ZA[1][1:]-0.04,ZA[2][1:]-0.097,dt,cmap='plasma',alpha=0.9,linewidth=5)  # star forming"
   ]
  },
  {
   "cell_type": "code",
   "execution_count": 4,
   "metadata": {},
   "outputs": [
    {
     "data": {
      "text/plain": [
       "3"
      ]
     },
     "execution_count": 4,
     "metadata": {},
     "output_type": "execute_result"
    }
   ],
   "source": [
    "int(np.min(np.log10(M1)))"
   ]
  },
  {
   "cell_type": "code",
   "execution_count": 5,
   "metadata": {},
   "outputs": [
    {
     "ename": "NameError",
     "evalue": "name 'ZA' is not defined",
     "output_type": "error",
     "traceback": [
      "\u001b[0;31m---------------------------------------------------------------------------\u001b[0m",
      "\u001b[0;31mNameError\u001b[0m                                 Traceback (most recent call last)",
      "\u001b[0;32m<ipython-input-5-6963aed7da19>\u001b[0m in \u001b[0;36m<module>\u001b[0;34m\u001b[0m\n\u001b[1;32m      5\u001b[0m \u001b[0max\u001b[0m\u001b[0;34m.\u001b[0m\u001b[0mplot\u001b[0m\u001b[0;34m(\u001b[0m\u001b[0mnp\u001b[0m\u001b[0;34m.\u001b[0m\u001b[0mlog10\u001b[0m\u001b[0;34m(\u001b[0m\u001b[0mM\u001b[0m\u001b[0;34m)\u001b[0m\u001b[0;34m,\u001b[0m\u001b[0mnp\u001b[0m\u001b[0;34m.\u001b[0m\u001b[0mlog10\u001b[0m\u001b[0;34m(\u001b[0m\u001b[0mL_M\u001b[0m\u001b[0;34m(\u001b[0m\u001b[0mM\u001b[0m\u001b[0;34m,\u001b[0m\u001b[0;36m.01\u001b[0m\u001b[0;34m)\u001b[0m\u001b[0;34m)\u001b[0m\u001b[0;34m,\u001b[0m\u001b[0mc\u001b[0m\u001b[0;34m=\u001b[0m\u001b[0;34m'C2'\u001b[0m\u001b[0;34m)\u001b[0m\u001b[0;34m\u001b[0m\u001b[0;34m\u001b[0m\u001b[0m\n\u001b[1;32m      6\u001b[0m \u001b[0;34m\u001b[0m\u001b[0m\n\u001b[0;32m----> 7\u001b[0;31m \u001b[0mcp\u001b[0m\u001b[0;34m=\u001b[0m\u001b[0max\u001b[0m\u001b[0;34m.\u001b[0m\u001b[0mcontourf\u001b[0m\u001b[0;34m(\u001b[0m\u001b[0mZA\u001b[0m\u001b[0;34m[\u001b[0m\u001b[0;36m1\u001b[0m\u001b[0;34m]\u001b[0m\u001b[0;34m[\u001b[0m\u001b[0;36m1\u001b[0m\u001b[0;34m:\u001b[0m\u001b[0;34m]\u001b[0m\u001b[0;34m,\u001b[0m\u001b[0mZA\u001b[0m\u001b[0;34m[\u001b[0m\u001b[0;36m2\u001b[0m\u001b[0;34m]\u001b[0m\u001b[0;34m[\u001b[0m\u001b[0;36m1\u001b[0m\u001b[0;34m:\u001b[0m\u001b[0;34m]\u001b[0m\u001b[0;34m,\u001b[0m\u001b[0mdt\u001b[0m\u001b[0;34m,\u001b[0m\u001b[0mcmap\u001b[0m\u001b[0;34m=\u001b[0m\u001b[0;34m'Oranges'\u001b[0m\u001b[0;34m,\u001b[0m\u001b[0mlevels\u001b[0m\u001b[0;34m=\u001b[0m\u001b[0;36m7\u001b[0m\u001b[0;34m,\u001b[0m\u001b[0malpha\u001b[0m\u001b[0;34m=\u001b[0m\u001b[0;36m1\u001b[0m\u001b[0;34m,\u001b[0m\u001b[0mlinewidths\u001b[0m\u001b[0;34m=\u001b[0m\u001b[0;36m1\u001b[0m\u001b[0;34m)\u001b[0m  \u001b[0;31m# star forming\u001b[0m\u001b[0;34m\u001b[0m\u001b[0;34m\u001b[0m\u001b[0m\n\u001b[0m\u001b[1;32m      8\u001b[0m \u001b[0max\u001b[0m\u001b[0;34m.\u001b[0m\u001b[0mset_xlim\u001b[0m\u001b[0;34m(\u001b[0m\u001b[0;36m5\u001b[0m\u001b[0;34m,\u001b[0m\u001b[0;36m10\u001b[0m\u001b[0;34m)\u001b[0m\u001b[0;34m\u001b[0m\u001b[0;34m\u001b[0m\u001b[0m\n\u001b[1;32m      9\u001b[0m \u001b[0max\u001b[0m\u001b[0;34m.\u001b[0m\u001b[0mset_ylim\u001b[0m\u001b[0;34m(\u001b[0m\u001b[0mbottom\u001b[0m\u001b[0;34m=\u001b[0m\u001b[0;36m40\u001b[0m\u001b[0;34m)\u001b[0m\u001b[0;34m\u001b[0m\u001b[0;34m\u001b[0m\u001b[0m\n",
      "\u001b[0;31mNameError\u001b[0m: name 'ZA' is not defined"
     ]
    },
    {
     "data": {
      "image/png": "[encoded data removed]",
      "text/plain": [
       "<Figure size 432x288 with 1 Axes>"
      ]
     },
     "metadata": {
      "needs_background": "light"
     },
     "output_type": "display_data"
    }
   ],
   "source": [
    "fig,ax = plt.subplots(1,1)\n",
    "M = np.logspace(4,10)\n",
    "ax.plot(np.log10(M),np.log10(L_M(M,1)),c='C0')\n",
    "ax.plot(np.log10(M),np.log10(L_M(M,.1)),c='C1')\n",
    "ax.plot(np.log10(M),np.log10(L_M(M,.01)),c='C2')\n",
    "\n",
    "cp=ax.contourf(ZA[1][1:],ZA[2][1:],dt,cmap='Oranges',levels=7,alpha=1,linewidths=1)  # star forming\n",
    "ax.set_xlim(5,10)\n",
    "ax.set_ylim(bottom=40)\n",
    "fig.colorbar(cp) # Add a colorbar to a plot\n",
    "fig.savefig(figpre+'ML.pdf',dpi=300,bbox_inches='tight')"
   ]
  },
  {
   "cell_type": "code",
   "execution_count": null,
   "metadata": {
    "scrolled": false
   },
   "outputs": [],
   "source": [
    "fig,ax = plt.subplots(1,1)\n",
    "M = np.logspace(4,10)\n",
    "ax.plot(np.log10(M),np.log10(L_M(M,1)),c='C0')\n",
    "ax.plot(np.log10(M),np.log10(L_M(M,.1)),c='C1')\n",
    "ax.plot(np.log10(M),np.log10(L_M(M,.01)),c='C2')\n",
    "\n",
    "cp=ax.contourf(ZA[1][1:],ZA[2][1:],dt,cmap='Oranges',levels=[1e-4,3e-4,1e-3,3e-3,1e-2,1e-1,3e-1,1e0,3e0],alpha=1,linewidths=1)  # star forming\n",
    "ax.set_xlim(5,10)\n",
    "ax.set_ylim(bottom=40)\n",
    "fig.colorbar(cp) # Add a colorbar to a plot\n",
    "fig.savefig(figpre+'ML.pdf',dpi=300,bbox_inches='tight')"
   ]
  },
  {
   "cell_type": "code",
   "execution_count": null,
   "metadata": {
    "scrolled": true
   },
   "outputs": [],
   "source": [
    "from matplotlib import ticker, cm\n",
    "\n",
    "plt.contourf(ZA[1][1:],ZA[2][1:],dt,cmap=cm.PuBu_r,alpha=1,linewidth=3)"
   ]
  },
  {
   "cell_type": "code",
   "execution_count": null,
   "metadata": {},
   "outputs": [],
   "source": [
    "plt.contourf(ZA[1][1:],ZA[2][1:],dt,cmap=cm.cividis,alpha=1,linewidth=3)\n",
    "# cividis\n",
    "# viridis"
   ]
  },
  {
   "cell_type": "code",
   "execution_count": null,
   "metadata": {},
   "outputs": [],
   "source": [
    "xgrid = np.linspace(6, 10)\n",
    "ygrid = np.linspace(44, 48)\n",
    "X, Y = np.meshgrid((xgrid[:-1]+xgrid[1:])/2., (ygrid[:-1]+ygrid[1:])/2.)\n",
    "Z = np.sqrt(X**2 + Y**2)\n",
    "Z = plt.hist2d(np.log10(M1), np.log10(L1), [xgrid,ygrid])[0]\n",
    "\n",
    "\n",
    "fig,ax=plt.subplots(1,1)\n",
    "cp = ax.contourf(X, Y, Z)\n",
    "fig.colorbar(cp) # Add a colorbar to a plot\n",
    "# ax.set_title('Filled Contours Plot')\n",
    "#ax.set_xlabel('x (cm)')\n",
    "ax.set_ylabel('y (cm)')\n",
    "plt.show()"
   ]
  },
  {
   "cell_type": "code",
   "execution_count": null,
   "metadata": {},
   "outputs": [],
   "source": [
    "np.max(np.log10(L1))"
   ]
  },
  {
   "cell_type": "code",
   "execution_count": null,
   "metadata": {},
   "outputs": [],
   "source": []
  },
  {
   "cell_type": "code",
   "execution_count": null,
   "metadata": {},
   "outputs": [],
   "source": []
  }
 ],
 "metadata": {
  "kernelspec": {
   "display_name": "Python 3",
   "language": "python",
   "name": "python3"
  },
  "language_info": {
   "codemirror_mode": {
    "name": "ipython",
    "version": 3
   },
   "file_extension": ".py",
   "mimetype": "text/x-python",
   "name": "python",
   "nbconvert_exporter": "python",
   "pygments_lexer": "ipython3",
   "version": "3.7.3"
  }
 },
 "nbformat": 4,
 "nbformat_minor": 2
}
