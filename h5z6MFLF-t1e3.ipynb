{
 "cells": [
  {
   "cell_type": "markdown",
   "metadata": {},
   "source": [
    "# Readme: for fixed tau=1000; PY/init t_life=1000;   <br /> sk1: 3p**h5 download ndraw=5 calculate locally (not 60 on cluster)"
   ]
  },
  {
   "cell_type": "code",
   "execution_count": 2,
   "metadata": {},
   "outputs": [],
   "source": [
    "# f_seed 需改 PY/init 中的 因为 models_logd 传入的是 global 的f_seed 值\n",
    "from PYmodule import *\n",
    "from PYmodule.models_3p import *\n",
    "\n",
    "from matplotlib.legend_handler import HandlerLine2D, HandlerTuple"
   ]
  },
  {
   "cell_type": "code",
   "execution_count": 3,
   "metadata": {
    "scrolled": true
   },
   "outputs": [
    {
     "name": "stdout",
     "output_type": "stream",
     "text": [
      "0.01\n",
      "-rw-rw-r--@ 1 wli  staff    10M Nov 26 15:15 ../3p/M0fUt1000_f2_n1000.h5\r\n",
      "-rw-rw-r--  1 wli  staff    49M Mar 15  2022 ../3p/MLF3prange1_l0_9.0e-01_a_1.0e-01.h5\r\n",
      "-rw-rw-r--  1 wli  staff    48M Mar  7  2022 ../3p/M30err.5LF_3prange8_r_4even_ns5.0e+03.h5\r\n",
      "-rw-rw-r--  1 wli  staff   144M Mar  6  2022 ../3p/M30LF_3prange8_r_4even_ns5.0e+03.h5\r\n"
     ]
    }
   ],
   "source": [
    "print(f_seed)\n",
    "! ls -lth ../3p/*h5"
   ]
  },
  {
   "cell_type": "code",
   "execution_count": 4,
   "metadata": {},
   "outputs": [
    {
     "name": "stdout",
     "output_type": "stream",
     "text": [
      "len of samples: 1000\n",
      "len of extracted samples: 100000\n",
      "best paras: [-0.52534832  0.12259319  0.38407638] chi2=32.81\n"
     ]
    }
   ],
   "source": [
    "# best-fit paras and chi2s\n",
    "fname = '../3p/M0fUt1000_f2_n1000.h5'\n",
    "reader = emcee.backends.HDFBackend(fname)\n",
    "\n",
    "Nburnin = 0\n",
    "Nthin = 1\n",
    "samples = reader.get_chain(discard=Nburnin)\n",
    "probs = reader.get_log_prob(discard=Nburnin)\n",
    "print('len of samples:', len(samples))\n",
    "\n",
    "samples = reader.get_chain(discard=Nburnin, thin=Nthin, flat=True)\n",
    "probs = reader.get_log_prob(discard=Nburnin, thin=Nthin, flat=True)\n",
    "print('len of extracted samples:', len(samples))\n",
    "theta_max = samples[np.argmax(probs)]\n",
    "print('best paras:',theta_max,'chi2={:.2f}'.format(np.max(probs)*-2))\n"
   ]
  },
  {
   "cell_type": "code",
   "execution_count": 5,
   "metadata": {},
   "outputs": [],
   "source": [
    "f_seedlabel = 'f%d'%abs(int(np.log10(f_seed)))\n",
    "f_seedlegend = r'$\\mathrm{f_{seed}}=$'+str(f_seed)\n",
    "labels = [r'$\\tau$', r'$\\log \\delta$', r'$\\lambda_0$', r'$\\alpha$']\n",
    "ndim = len(labels)\n"
   ]
  },
  {
   "cell_type": "raw",
   "metadata": {
    "scrolled": true
   },
   "source": [
    "f_seedlabel = 'f%d'%abs(int(np.log10(f_seed)))\n",
    "f_seedlegend = r'$\\mathrm{f_{seed}}=$'+str(f_seed)\n",
    "fname = '../M0r8_'+f_seedlabel+'.h5'; prex = './' + f_seedlabel\n",
    "# fname = '../M0fMr8_'+f_seedlabel+'.h5'; prex = './fM' + f_seedlabel # Merloni f_obs\n",
    "\n",
    "print('fname=',fname)\n",
    "# ! ls ../M0*.h5\n",
    "labels = [r'$\\tau$', r'$\\log \\delta$', r'$\\lambda_0$', r'$\\alpha$']\n",
    "\n",
    "reader = emcee.backends.HDFBackend(fname)\n",
    "ndim = len(labels)\n",
    "\n",
    "# tau = reader.get_autocorr_time(tol=1)\n",
    "# tau = np.max(tau); print('max tau:',tau)\n",
    "# Nburnin = int(3*tau)\n",
    "# Nthin = int(tau/2)\n",
    "\n",
    "# v.s. Nburnin=500, Nthin=1 no big difference\n",
    "Nburnin = 0\n",
    "Nthin = 1\n",
    "\n",
    "samples = reader.get_chain(discard=Nburnin)\n",
    "probs = reader.get_log_prob(discard=Nburnin)\n",
    "print('len of samples:', len(samples))\n",
    "\n",
    "samples = reader.get_chain(discard=Nburnin, thin=Nthin, flat=True)\n",
    "probs = reader.get_log_prob(discard=Nburnin, thin=Nthin, flat=True)\n",
    "print('len of extracted samples:', len(samples))\n",
    "theta_max = samples[np.argmax(probs)]\n",
    "print('best paras:',theta_max,np.max(probs)*-2)\n"
   ]
  },
  {
   "cell_type": "markdown",
   "metadata": {},
   "source": [
    "## corner"
   ]
  },
  {
   "cell_type": "raw",
   "metadata": {
    "scrolled": true
   },
   "source": [
    "%matplotlib inline\n",
    "# Make the base corner plot\n",
    "fig = corner.corner(samples,show_titles=True,title_kwargs={'fontsize':15},\n",
    "                    range=[(10,40),0.9999,0.9999,0.9999],\n",
    "                    plot_density=True,\n",
    "                    label_kwargs={'fontsize':20},max_n_ticks=4,labels=labels,\n",
    "                    plot_datapoints=True,\n",
    "                    quantiles=[0.16, 0.5, 0.84], verbose=True\n",
    "                   )\n",
    "# Extract the axes\n",
    "axes = np.array(fig.axes).reshape((ndim, ndim))\n",
    "for i in range(ndim):\n",
    "    for j in range(ndim):\n",
    "        axes[i][j].tick_params(labelsize=12)\n",
    "        \n",
    "# Loop over the diagonal\n",
    "for i in range(ndim):\n",
    "    ax = axes[i, i]\n",
    "    ax.axvline(theta_max[i],color=\"r\",lw=1.5)\n",
    "\n",
    "# Loop over the histograms\n",
    "for yi in range(ndim):\n",
    "    for xi in range(yi):\n",
    "        ax = axes[yi, xi]\n",
    "        ax.axvline(theta_max[xi],color=\"r\",lw=1.5)\n",
    "        ax.axhline(theta_max[yi],color=\"r\",lw=1.5)\n",
    "        ax.plot(theta_max[xi], theta_max[yi], \"sr\")\n",
    "if f_seed==0.1:\n",
    "    ax.text(1, 4, r\"$\\mathrm{f_{seed}=0.1}$\", transform=ax.transAxes, fontdict={'size': '25', 'color': 'k'})\n",
    "elif f_seed==0.01:\n",
    "    ax.text(1, 4, r\"$\\mathrm{f_{seed}=0.01}$\", transform=ax.transAxes, fontdict={'size': '25', 'color': 'k'})\n",
    "\n",
    "plt.savefig(figpre+f_seedlabel+'_corner_logtau.pdf',dpi=400,rasterized=True)\n",
    "\n",
    "print(f_seed)"
   ]
  },
  {
   "cell_type": "markdown",
   "metadata": {},
   "source": [
    "## generate MF & LF data  (moved to h5z6MFLF.py) ndraw=60, on cluster"
   ]
  },
  {
   "cell_type": "code",
   "execution_count": 5,
   "metadata": {},
   "outputs": [],
   "source": [
    "# \n",
    "ndraw = 5\n",
    "\n",
    "best_model = model(theta_max)\n",
    "\n",
    "draw = np.floor(np.random.uniform(0,len(samples),size=ndraw)).astype(int)\n",
    "thetas = samples[draw]\n",
    "model_thetas = [model(theta_i) for theta_i in thetas]"
   ]
  },
  {
   "cell_type": "code",
   "execution_count": 6,
   "metadata": {},
   "outputs": [
    {
     "ename": "NameError",
     "evalue": "name 'y_best' is not defined",
     "output_type": "error",
     "traceback": [
      "\u001b[0;31m---------------------------------------------------------------------------\u001b[0m",
      "\u001b[0;31mNameError\u001b[0m                                 Traceback (most recent call last)",
      "\u001b[0;32m<ipython-input-6-49cfec98bc91>\u001b[0m in \u001b[0;36m<module>\u001b[0;34m\u001b[0m\n\u001b[0;32m----> 1\u001b[0;31m \u001b[0my_best\u001b[0m\u001b[0;34m\u001b[0m\u001b[0;34m\u001b[0m\u001b[0m\n\u001b[0m",
      "\u001b[0;31mNameError\u001b[0m: name 'y_best' is not defined"
     ]
    }
   ],
   "source": [
    "y_best\n"
   ]
  },
  {
   "cell_type": "code",
   "execution_count": 7,
   "metadata": {},
   "outputs": [],
   "source": [
    "curve_name = 'MF'\n",
    "xs = best_model['M_BH'][::int(N_mf/100)] # ~100 points\n",
    "y_data = best_model[curve_name+'_data'][::int(N_mf/100)]\n",
    "y_logdata = np.log10(y_data)\n",
    "y_best = best_model[curve_name][::int(N_mf/100)]\n",
    "y_err = best_model[curve_name+'_data_err'][::int(N_mf/100)]\n",
    "\n",
    "mod_list = []\n",
    "for i in range(ndraw):\n",
    "    mod = model_thetas[i][curve_name][::int(N_mf/100)]\n",
    "    mod_list.append(mod)\n",
    "spread = np.std(mod_list,axis=0)\n",
    "med_model = np.median(mod_list,axis=0)\n",
    "\n",
    "fMname = 't1000'+f_seedlabel+'ndraw%d'%ndraw+curve_name\n",
    "ascii.write(Table([xs,y_data,y_best,y_err,med_model,spread]),\n",
    "            fMname,\n",
    "            names=['xs','y_data','y_best','y_err','med_model','spread'],\n",
    "            formats={'xs':'10.3e','y_data':'10.3e','y_best':'10.3e','y_err':'10.3e','med_model':'10.3e','spread':'10.3e'},\n",
    "            overwrite=True)"
   ]
  },
  {
   "cell_type": "code",
   "execution_count": 8,
   "metadata": {},
   "outputs": [],
   "source": [
    "curve_name = 'LF'\n",
    "xs = best_model['M1450']\n",
    "Nappend = len(best_model['M1450'])-len(best_model['M1450_data'])\n",
    "x_data = np.append(best_model['M1450_data'],np.ones(Nappend))\n",
    "y_data = np.append(best_model[curve_name+'_data'],np.ones(Nappend))\n",
    "y_data_err = np.append(best_model[curve_name+'_data_err'],np.ones(Nappend))\n",
    "\n",
    "y_best = best_model[curve_name]\n",
    "# spread\n",
    "mod_list = []\n",
    "for i in range(ndraw):\n",
    "    mod = model_thetas[i][curve_name]\n",
    "    mod_list.append(mod)\n",
    "spread = np.std(mod_list,axis=0)\n",
    "med_model = np.median(mod_list,axis=0)\n",
    "\n",
    "fLname = 't1000'+f_seedlabel+'ndraw%d'%ndraw+curve_name\n",
    "ascii.write(Table([xs,x_data,y_data,y_data_err,y_best,med_model,spread]),\n",
    "            fLname,\n",
    "            names=['xs','x_data','y_data','y_data_err','y_best','med_model','spread'],\n",
    "            formats={'xs':'10.3e','x_data':'10.3e','y_data':'10.3e','y_data_err':'10.3e','y_best':'10.3e','med_model':'10.3e','spread':'10.3e'},\n",
    "            overwrite=True)"
   ]
  },
  {
   "cell_type": "code",
   "execution_count": null,
   "metadata": {},
   "outputs": [],
   "source": [
    "# 只为画图可先来这里直接read file 然后跑"
   ]
  },
  {
   "cell_type": "code",
   "execution_count": 6,
   "metadata": {},
   "outputs": [
    {
     "data": {
      "text/plain": [
       "(23, 20)"
      ]
     },
     "execution_count": 6,
     "metadata": {},
     "output_type": "execute_result"
    }
   ],
   "source": [
    "ndraw = 5\n",
    "fslabel,fslegend"
   ]
  },
  {
   "cell_type": "code",
   "execution_count": 8,
   "metadata": {
    "scrolled": true
   },
   "outputs": [],
   "source": [
    "curve_name = 'MF'\n",
    "fMname = 't1000'+f_seedlabel+'ndraw%d'%ndraw+curve_name\n",
    "T_ = ascii.read(fMname, guess=False, delimiter=' ')\n",
    "xs = T_['xs']\n",
    "y_data = T_['y_data']\n",
    "y_logdata = np.log10(y_data)\n",
    "y_best = T_['y_best']\n",
    "y_err = T_['y_err']\n",
    "med_model = T_['med_model']\n",
    "spread    = T_['spread']\n",
    "\n",
    "fig, ax = plt.subplots(figsize=(10, 8))\n",
    "ax.plot(xs, y_data, c='C0',label='W10')\n",
    "# error band of W10\n",
    "ax.fill_between(xs,pow(10.,y_logdata-y_err),pow(10.,y_logdata+y_err),color='C0',alpha=0.2,label='_data error')\n",
    "\n",
    "\n",
    "ax.fill_between(xs,med_model-spread,med_model+spread,color='grey',alpha=0.5,label=r'_$1\\sigma$ Posterior Spread')\n",
    "ax.plot(xs, y_best, c='black', label='Best-fit Model')\n",
    "\n",
    "ax.text(1e9,1e-7, f_seedlegend+'\\n'+ \\\n",
    "labels[0]+' = %d Myr\\n\\n'%(1000)+labels[1]+' = %.2f\\n'%(theta_max[0])\\\n",
    "+labels[2]+' = %.2f\\n'%(theta_max[1])+labels[3]+' = %.2f\\n'%(theta_max[2])\n",
    ", fontsize=21)\n",
    "\n",
    "ax.set_xlim(1e7,1e10); ax.set_xscale('log')\n",
    "ax.set_ylim(1e-10,1e-4); ax.set_yscale('log')\n",
    "ax.legend(fontsize=fslegend,loc='upper left')\n",
    "plt.xlabel(r'$\\mathrm{M_{\\bullet}~(M_\\odot)}$',fontsize=fslabel)\n",
    "plt.ylabel(r'$\\mathrm{\\Phi_{M_{\\bullet}}~(Mpc^{-3}dex^{-1})}$',fontsize=fslabel)\n",
    "plt.tick_params(labelsize=fstick)\n",
    "\n",
    "plt.savefig('t1000'+f_seedlabel+'ndraw%dMF_spread.pdf'%ndraw,dpi=300,bbox_inches='tight')\n"
   ]
  },
  {
   "cell_type": "markdown",
   "metadata": {},
   "source": [
    "# ---------------------------------         QLF         ----------------------------------------\n"
   ]
  },
  {
   "cell_type": "code",
   "execution_count": 13,
   "metadata": {},
   "outputs": [
    {
     "name": "stdout",
     "output_type": "stream",
     "text": [
      "[-19 -20 -21] [6.30957344e-06 7.94328235e-06 1.99526231e-06]\n",
      "       M1450       \n",
      "-------------------\n",
      "            -21.125\n",
      "-20.435000000000002\n",
      "            -19.705 \n",
      "       M1450       \n",
      "------------------\n",
      "0.7100000000000009\n",
      "0.6699999999999982\n",
      "0.7900000000000027\n"
     ]
    }
   ],
   "source": [
    "# G15 3 data points \n",
    "M1450_G = np.array([-19,-20,-21]); logPhi_G = np.array([-5.2,-5.1,-5.7])\n",
    "logPhicorr_G = np.array([-4.7,-4.7,-5.7])\n",
    "print( M1450_G, pow(10,logPhi_G) )\n",
    "\n",
    "# Giallongo 2019; X-ray faint QLF 4 data points\n",
    "M1450_G19 = np.array([-19,-20,-21,-22]); Phi_G19 = np.array([7.27,4.77,0.69,0.62])*1e-6\n",
    "Phip_G19 = np.array([7.12,3.79,1.61,1.44])*1e-6; Phim_G19 = np.array([4.02,2.31,0.60,0.54])*1e-6\n",
    "# QLF sample: z=5.5 to 6.1; z=5.55 to z=6; extrapolating w/ Jiang2016 density evolution slope: -0.72\n",
    "Phi_G19 *= pow(10, -0.72*(6-5.55))\n",
    "Phip_G19*= pow(10, -0.72*(6-5.55))\n",
    "Phim_G19*= pow(10, -0.72*(6-5.55))\n",
    "\n",
    "# Jiang 2022;\n",
    "namelist = [#'fig3a_data_individualFields',\n",
    "           'fig3a_data_combinedFields_95CL',\n",
    "           #'fig3a_data_combinedFields_75CL',\n",
    "           ]\n",
    "nameFitlist = [#'fig3a_data_modelFit_75CL',\n",
    "           'fig3a_data_modelFit_95CL',\n",
    "           ]\n",
    "name = 'fig3a_data_combinedFields_95CL'\n",
    "T_J = ascii.read('../data/Jiang_SD_Fig3/%s.txt'%(namelist[0]), guess=False, delimiter=' ',names=['M1450','Phi_cumu'])\n",
    "M1450_J = (T_J['M1450'][1:] + T_J['M1450'][:-1]) /2.\n",
    "dM1450_J = T_J['M1450'][1:] - T_J['M1450'][:-1]\n",
    "Phi_J = 1e-9* (T_J['Phi_cumu'][1:] - T_J['Phi_cumu'][:-1])/dM1450_J\n",
    "\n",
    "print(M1450_J,'\\n', dM1450_J)"
   ]
  },
  {
   "cell_type": "code",
   "execution_count": 15,
   "metadata": {},
   "outputs": [],
   "source": [
    "curve_name = 'LF'\n",
    "fLname = 't1000'+f_seedlabel+'ndraw%d'%ndraw+curve_name\n",
    "T_ = ascii.read(fLname, guess=False, delimiter=' ')\n",
    "\n",
    "xs = T_['xs']\n",
    "x_data = T_['x_data']\n",
    "y_data = T_['y_data']\n",
    "y_data_err = T_['y_data_err']\n",
    "y_best = T_['y_best']\n",
    "med_model = T_['med_model']\n",
    "spread    = T_['spread']\n",
    "\n",
    "\n",
    "fig, ax = plt.subplots(figsize=(10, 8))\n",
    "# Matsuoka 2018; data(errorbar) + fitting curve\n",
    "p1=ax.errorbar(x_data, y_data/1e9, yerr=y_data_err/1e9,fmt='o',capsize=10, label='M18')\n",
    "p1_,=ax.plot(xs,LF_M1450(xs),':',lw=2.5,c='C0',label='_Matsu fitting')\n",
    "\n",
    "ax.fill_between(xs,(med_model-spread)/1e9,(med_model+spread)/1e9,color='grey',alpha=0.5,label='_',zorder=5)\n",
    "p2,=ax.plot(xs, y_best/1e9, c='black', label='unobscured')\n",
    "p3,=ax.plot(xs, y_best/1e9*corr_U14D20(xs),'--', c='black', label='intrinsic',zorder=5)\n",
    "\n",
    "\n",
    "# Giallongo 2015; data + Poission errors\n",
    "# ax.errorbar(M1450_G, pow(10,logPhicorr_G), yerr=pow(10,logPhicorr_G)/np.array([1,3**.5,1]),fmt='s',capsize=10, label='Giallongo+15')\n",
    "# Giallongo 2019; Phi_corr data + errors\n",
    "ax.errorbar(M1450_G19, Phi_G19, yerr=[Phim_G19,Phip_G19],fmt='s',capsize=10, label='_Giallongo+19')\n",
    "\n",
    "# Jiang 2022; upper limits\n",
    "# for name in namelist:\n",
    "#     T_J = ascii.read('../data/Jiang_SD_Fig3/%s.txt'%name, guess=False, delimiter=' ',names=['M1450','Phi'])\n",
    "#     M1450_J = T_J['M1450']\n",
    "#     logPhi_J = T_J['Phi']/1e9\n",
    "ax.errorbar( M1450_J, Phi_J,xerr=dM1450_J/2, yerr = Phi_J/2,uplims=True, label='_Jiang+ 22',fmt='D',color='C2',capsize=3)\n",
    "\n",
    "# for name in nameFitlist:\n",
    "#     T_J = ascii.read('../data/Jiang_SD_Fig3/%s.txt'%name, guess=False, delimiter=' ',names=['M1450','Phi'])\n",
    "#     M1450_J = T_J['M1450']\n",
    "#     logPhi_J = T_J['Phi']/1e9\n",
    "#     ax.plot( M1450_J, logPhi_J, c='C2')\n",
    "\n",
    "ax.text(-26,5e-8, f_seedlegend, fontsize=21)\n",
    "\n",
    "ax.set_xlim(-18.5,-30)\n",
    "ax.set_ylim(1e-12,1e-5)\n",
    "ax.set_yscale('log')\n",
    "plt.xlabel(r'$\\mathrm{M_{1450}}$',fontsize=fslabel)\n",
    "plt.ylabel(r'$\\mathrm{\\Phi_{M_{1450}}~(Mpc^{-3}mag^{-1})}$',fontsize=fslabel)\n",
    "plt.tick_params(labelsize=fstick)\n",
    "# plt.tight_layout()\n",
    "plt.legend([p1,p2,p3],\n",
    "           ['M18','unobscured','intrinsic'],\n",
    "           fontsize=fslegend)\n",
    "\n",
    "first_legend = ax.legend([(p1,p1_),p2,p3],\n",
    "                         ['M18','unobscured','intrinsic'],\n",
    "#                            numpoints=1,\n",
    "#                            handler_map={tuple: HandlerTuple(ndivide=1,pad=.5,xpad=0,ypad=.7)},\n",
    "                         handler_map={tuple: HandlerTuple(ndivide=1,xpad=0.1,ypad=-.3)},\n",
    "                         fontsize=fslegend,loc=(.6,.73))\n",
    "ax.add_artist(first_legend)\n",
    "\n",
    "locmajx = FixedLocator(np.arange(-17,-30,-2)) # subs=(0.2,0.4,0.6,0.8)\n",
    "locminx = FixedLocator(np.arange(17,-30,-.5)) # subs=(0.2,0.4,0.6,0.8)\n",
    "ax.xaxis.set_major_locator(locmajx)\n",
    "ax.xaxis.set_minor_locator(locminx)\n",
    "ax.xaxis.set_minor_formatter(matplotlib.ticker.NullFormatter())\n",
    "\n",
    "locmajy = LogLocator(base=10,numticks=100)\n",
    "locminy = LogLocator(base=10,subs=np.arange(2, 10) * .1,numticks=100) # subs=(0.2,0.4,0.6,0.8)\n",
    "ax.yaxis.set_major_locator(locmajy)\n",
    "ax.yaxis.set_minor_locator(locminy)\n",
    "ax.yaxis.set_minor_formatter(matplotlib.ticker.NullFormatter())\n",
    "\n",
    "plt.savefig('t1000'+f_seedlabel+'ndraw%dLF_spread.pdf'%ndraw,dpi=300,bbox_inches='tight')"
   ]
  },
  {
   "cell_type": "code",
   "execution_count": 13,
   "metadata": {},
   "outputs": [
    {
     "name": "stdout",
     "output_type": "stream",
     "text": [
      "../data/\n"
     ]
    }
   ],
   "source": [
    "print(datapre)"
   ]
  },
  {
   "cell_type": "code",
   "execution_count": 14,
   "metadata": {},
   "outputs": [
    {
     "name": "stdout",
     "output_type": "stream",
     "text": [
      "ls: +: No such file or directory\r\n",
      "ls: M0: No such file or directory\r\n",
      "ls: datapre: No such file or directory\r\n"
     ]
    }
   ],
   "source": [
    "! ls datapre + 'M0'"
   ]
  },
  {
   "cell_type": "code",
   "execution_count": null,
   "metadata": {},
   "outputs": [],
   "source": []
  },
  {
   "cell_type": "code",
   "execution_count": null,
   "metadata": {},
   "outputs": [],
   "source": []
  },
  {
   "cell_type": "code",
   "execution_count": null,
   "metadata": {},
   "outputs": [],
   "source": []
  },
  {
   "cell_type": "code",
   "execution_count": null,
   "metadata": {},
   "outputs": [],
   "source": []
  },
  {
   "cell_type": "code",
   "execution_count": null,
   "metadata": {},
   "outputs": [],
   "source": []
  },
  {
   "cell_type": "markdown",
   "metadata": {},
   "source": [
    "# prev"
   ]
  },
  {
   "cell_type": "raw",
   "metadata": {},
   "source": [
    "from PYmodule import *\n",
    "from PYmodule.models_logd import *\n",
    "import matplotlib\n",
    "%matplotlib inline"
   ]
  },
  {
   "cell_type": "raw",
   "metadata": {},
   "source": [
    "fname = '../M0r8_f2.h5'\n",
    "prex = '../f2'\n",
    "\n",
    "labels = [r'$\\mathrm{t_{life}}$', r'$\\log \\delta$', r'$\\lambda_0$', r'$\\alpha$']\n",
    "\n",
    "reader = emcee.backends.HDFBackend(fname)\n",
    "ndim = len(labels)\n",
    "\n",
    "tau = reader.get_autocorr_time(tol=1)\n",
    "tau = np.max(tau); print('max tau:',tau)\n",
    "Nburnin = int(3*tau)\n",
    "Nthin = int(tau/2)\n",
    "\n",
    "Nburnin = 0\n",
    "Nthin = 1"
   ]
  },
  {
   "cell_type": "raw",
   "metadata": {},
   "source": [
    "samples = reader.get_chain(discard=Nburnin)\n",
    "probs = reader.get_log_prob(discard=Nburnin)\n",
    "print('len of samples:', len(samples))\n",
    "\n",
    "samples = reader.get_chain(discard=Nburnin, thin=Nthin, flat=True)\n",
    "probs = reader.get_log_prob(discard=Nburnin, thin=Nthin, flat=True)\n",
    "print('len of extracted samples:', len(samples))\n",
    "theta_max = samples[np.argmax(probs)]\n",
    "print('best paras:',theta_max,np.max(probs))\n"
   ]
  },
  {
   "cell_type": "raw",
   "metadata": {},
   "source": [
    "ndraw = 20\n",
    "fig, ax = plt.subplots(figsize=(10, 10)) #figsize=(10, 10)\n",
    "curve_name = 'MF'\n",
    "best_model = model(theta_max)\n",
    "xs = best_model['M_BH'][::int(N_mf/100)] # ~100 points\n",
    "y_data = best_model[curve_name+'_data'][::int(N_mf/100)]\n",
    "y_logdata = np.log10(y_data)\n",
    "y_best = best_model[curve_name][::int(N_mf/100)]\n",
    "y_err = best_model[curve_name+'_data_err'][::int(N_mf/100)]\n",
    "ax.plot(xs, y_data, c='C0',label='W10')\n",
    "# error band of W10\n",
    "plt.fill_between(xs,pow(10.,y_logdata-y_err/2.),pow(10.,y_logdata+y_err/2.),color='C0',alpha=0.5,label='_')\n",
    "\n",
    "draw = np.floor(np.random.uniform(0,len(samples),size=ndraw)).astype(int)\n",
    "thetas = samples[draw]\n",
    "model_thetas = [model(theta_i) for theta_i in thetas]\n",
    "mod_list = []\n",
    "for i in range(ndraw):\n",
    "    mod = model_thetas[i][curve_name][::int(N_mf/100)]\n",
    "    mod_list.append(mod)\n",
    "    # ax.plot(xs, mod, c='grey',label='_',alpha=.2)\n",
    "spread = np.std(mod_list,axis=0)\n",
    "med_model = np.median(mod_list,axis=0)\n",
    "plt.fill_between(xs,med_model-spread,med_model+spread,color='orange',alpha=0.5,label=r'$1\\sigma$ Posterior Spread')\n",
    "ax.plot(xs, y_best, c='orange', label='Best-fit Model')\n",
    "ax.set_xlim(1e7,1e10); ax.set_xscale('log')\n",
    "ax.set_ylim(1e-10,1e-4); ax.set_yscale('log')\n",
    "ax.legend(fontsize=fslegend)\n",
    "\n",
    "plt.xlabel(r'$\\mathrm{M_{BH}~(M_\\odot)}$',fontsize=fslabel)\n",
    "plt.ylabel(r'$\\mathrm{\\Phi_M~(Mpc^{-3}dex^{-1})}$',fontsize=fslabel)\n",
    "plt.tick_params(labelsize=fstick)\n",
    "plt.savefig(prex+'ndraw%dMF_spread.png'%ndraw,dpi=300,bbox_inches='tight')\n",
    "# plt.show()"
   ]
  },
  {
   "cell_type": "raw",
   "metadata": {},
   "source": [
    "ndraw = 40\n",
    "fig, ax = plt.subplots(figsize=(10, 10)) #figsize=(10, 10)\n",
    "curve_name = 'MF'\n",
    "best_model = model(theta_max)\n",
    "xs = best_model['M_BH'][::int(N_mf/100)] # ~100 points\n",
    "y_data = best_model[curve_name+'_data'][::int(N_mf/100)]\n",
    "y_logdata = np.log10(y_data)\n",
    "y_best = best_model[curve_name][::int(N_mf/100)]\n",
    "y_err = best_model[curve_name+'_data_err'][::int(N_mf/100)]\n",
    "ax.plot(xs, y_data, c='C0',label='data')\n",
    "# error band of W10\n",
    "plt.fill_between(xs,pow(10.,y_logdata-y_err/2.),pow(10.,y_logdata+y_err/2.),color='C0',alpha=0.5,label='_')\n",
    "\n",
    "draw = np.floor(np.random.uniform(0,len(samples),size=ndraw)).astype(int)\n",
    "thetas = samples[draw]\n",
    "model_thetas = [model(theta_i) for theta_i in thetas]\n",
    "mod_list = []\n",
    "for i in range(ndraw):\n",
    "    mod = model_thetas[i][curve_name][::int(N_mf/100)]\n",
    "    mod_list.append(mod)\n",
    "    # ax.plot(xs, mod, c='grey',label='_',alpha=.2)\n",
    "spread = np.std(mod_list,axis=0)\n",
    "med_model = np.median(mod_list,axis=0)\n",
    "plt.fill_between(xs,med_model-spread,med_model+spread,color='orange',alpha=0.5,label=r'$1\\sigma$ Posterior Spread')\n",
    "ax.plot(xs, y_best, c='orange', label='Best-fit Model')\n",
    "ax.set_xlim(1e7,1e10); ax.set_xscale('log')\n",
    "ax.set_ylim(1e-10,1e-4); ax.set_yscale('log')\n",
    "ax.legend(fontsize=fslegend)\n",
    "\n",
    "plt.xlabel(r'$\\mathrm{M_{BH}~(M_\\odot)}$',fontsize=fslabel)\n",
    "plt.ylabel(r'$\\mathrm{\\Phi_M~(Mpc^{-3}dex^{-1})}$',fontsize=fslabel)\n",
    "plt.tick_params(labelsize=fstick)\n",
    "plt.savefig(prex+'ndraw%dMF_spread.png'%ndraw,dpi=300,bbox_inches='tight')\n",
    "# plt.show()"
   ]
  },
  {
   "cell_type": "raw",
   "metadata": {},
   "source": [
    "ndraw = 60\n",
    "fig, ax = plt.subplots(figsize=(10, 10)) #figsize=(10, 10)\n",
    "curve_name = 'MF'\n",
    "best_model = model(theta_max)\n",
    "xs = best_model['M_BH'][::int(N_mf/100)] # ~100 points\n",
    "y_data = best_model[curve_name+'_data'][::int(N_mf/100)]\n",
    "y_logdata = np.log10(y_data)\n",
    "y_best = best_model[curve_name][::int(N_mf/100)]\n",
    "y_err = best_model[curve_name+'_data_err'][::int(N_mf/100)]\n",
    "ax.plot(xs, y_data, c='C0',label='data')\n",
    "# error band of W10\n",
    "plt.fill_between(xs,pow(10.,y_logdata-y_err/2.),pow(10.,y_logdata+y_err/2.),color='C0',alpha=0.5,label='_')\n",
    "\n",
    "draw = np.floor(np.random.uniform(0,len(samples),size=ndraw)).astype(int)\n",
    "thetas = samples[draw]\n",
    "model_thetas = [model(theta_i) for theta_i in thetas]\n",
    "mod_list = []\n",
    "for i in range(ndraw):\n",
    "    mod = model_thetas[i][curve_name][::int(N_mf/100)]\n",
    "    mod_list.append(mod)\n",
    "    # ax.plot(xs, mod, c='grey',label='_',alpha=.2)\n",
    "spread = np.std(mod_list,axis=0)\n",
    "med_model = np.median(mod_list,axis=0)\n",
    "plt.fill_between(xs,med_model-spread,med_model+spread,color='orange',alpha=0.5,label=r'$1\\sigma$ Posterior Spread')\n",
    "ax.plot(xs, y_best, c='orange', label='Best-fit Model')\n",
    "ax.set_xlim(1e7,1e10); ax.set_xscale('log')\n",
    "ax.set_ylim(1e-10,1e-4); ax.set_yscale('log')\n",
    "ax.legend(fontsize=fslegend)\n",
    "\n",
    "plt.xlabel(r'$\\mathrm{M_{BH}~(M_\\odot)}$',fontsize=fslabel)\n",
    "plt.ylabel(r'$\\mathrm{\\Phi_M~(Mpc^{-3}dex^{-1})}$',fontsize=fslabel)\n",
    "plt.tick_params(labelsize=fstick)\n",
    "plt.savefig(prex+'ndraw%dMF_spread.png'%ndraw,dpi=300,bbox_inches='tight')\n",
    "# plt.show()"
   ]
  },
  {
   "cell_type": "raw",
   "metadata": {
    "scrolled": true
   },
   "source": [
    "fig, ax = plt.subplots(figsize=(10, 10))\n",
    "curve_name = 'LF'\n",
    "xs = best_model['M1450']\n",
    "x_data = best_model['M1450_data']\n",
    "y_data = best_model[curve_name+'_data']\n",
    "y_data_err = best_model[curve_name+'_data_err']\n",
    "y_best = best_model[curve_name]\n",
    "ax.scatter(x_data, y_data, label='_')\n",
    "plt.errorbar(x_data, y_data, yerr=y_data_err,fmt='o',capsize=10)\n",
    "# print('y_data_err',y_data_err)\n",
    "mod_list = []\n",
    "for i in range(ndraw):\n",
    "    mod = model_thetas[i][curve_name]\n",
    "    mod_list.append(mod)\n",
    "    # ax.plot(xs, mod, c='grey',label='_',alpha=.2)\n",
    "spread = np.std(mod_list,axis=0)\n",
    "med_model = np.median(mod_list,axis=0)\n",
    "plt.fill_between(xs,med_model-spread,med_model+spread,color='orange',alpha=0.5,label='_')\n",
    "ax.plot(xs, y_best, c='orange', label='_')\n",
    "ax.text(-26,5, 'f2\\n'+ \\\n",
    "labels[0]+' = %.2f Myr\\n'%(theta_max[0])+labels[1]+' = %.2f\\n'%(theta_max[1])\\\n",
    "+labels[2]+' = %.2f\\n'%(theta_max[2])+labels[3]+' = %.2f\\n'%(theta_max[3])\n",
    ", fontsize=20)\n",
    "ax.set_xlim(np.max(xs),np.min(xs))\n",
    "ax.set_ylim(5e-3,1e2)\n",
    "ax.set_yscale('log')\n",
    "plt.xlabel(r'$\\mathrm{M_{1450}}$',fontsize=fslabel)\n",
    "plt.ylabel(r'$\\mathrm{\\Phi~(Gpc^{-3}mag^{-1})}$',fontsize=fslabel)\n",
    "plt.tick_params(labelsize=fstick)\n",
    "# plt.tight_layout()\n",
    "plt.savefig(prex+'ndraw%dLF_spread.png'%ndraw,dpi=300,bbox_inches='tight')\n"
   ]
  }
 ],
 "metadata": {
  "kernelspec": {
   "display_name": "Python 3",
   "language": "python",
   "name": "python3"
  },
  "vscode": {
   "interpreter": {
    "hash": "398dc28c06ad810e77de546bbdfa897a6ee0b83e59a5207339dda01a7843e01d"
   }
  }
 },
 "nbformat": 4,
 "nbformat_minor": 2
}
