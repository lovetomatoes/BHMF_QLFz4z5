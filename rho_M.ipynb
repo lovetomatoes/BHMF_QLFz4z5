{
 "cells": [
  {
   "cell_type": "code",
   "execution_count": 1,
   "metadata": {},
   "outputs": [],
   "source": [
    "from PYmodule import *\n",
    "f_seed = 0.01\n",
    "fname = '../f%drho_evol.txt'%int(abs(np.log10(f_seed)))\n",
    "T = ascii.read(fname, guess=False, delimiter=' ')"
   ]
  },
  {
   "cell_type": "code",
   "execution_count": 2,
   "metadata": {},
   "outputs": [
    {
     "name": "stdout",
     "output_type": "stream",
     "text": [
      " z     rho_M7     -23       -24       -25       -26       -27   \n",
      "---- --------- --------- --------- --------- --------- ---------\n",
      " 6.0  1.36e-06  3.97e-08 1.409e-08 4.048e-09 1.231e-09 3.439e-10\n",
      " 7.0 3.358e-07 6.928e-09 1.967e-09 4.564e-10 1.128e-10 2.418e-11\n",
      " 8.0 8.657e-08 1.413e-09 3.374e-10 6.573e-11  1.37e-11 2.379e-12\n",
      " 9.0 2.532e-08 3.424e-10 7.025e-11 1.174e-11 2.113e-12  3.09e-13\n",
      "10.0 8.415e-09 9.634e-11 1.721e-11 2.514e-12 3.996e-13 5.077e-14\n"
     ]
    }
   ],
   "source": [
    "print(T)"
   ]
  },
  {
   "cell_type": "code",
   "execution_count": 3,
   "metadata": {},
   "outputs": [],
   "source": [
    "%matplotlib inline"
   ]
  },
  {
   "cell_type": "code",
   "execution_count": 4,
   "metadata": {},
   "outputs": [],
   "source": [
    "z = T['z']; rho_M=T['rho_M7']\n",
    "rho_23=T['-23'];rho_24=T['-24'];rho_25=T['-25'];rho_26=T['-26'];rho_27=T['-27']"
   ]
  },
  {
   "cell_type": "code",
   "execution_count": 7,
   "metadata": {},
   "outputs": [
    {
     "data": {
      "text/plain": [
       "(1e-09, 1e-05)"
      ]
     },
     "execution_count": 7,
     "metadata": {},
     "output_type": "execute_result"
    },
    {
     "data": {
      "image/png": "[encoded data removed]",
      "text/plain": [
       "<Figure size 432x288 with 1 Axes>"
      ]
     },
     "metadata": {
      "needs_background": "light"
     },
     "output_type": "display_data"
    }
   ],
   "source": [
    "plt.scatter(z,rho_M)\n",
    "plt.yscale('log'); plt.ylim(1e-9,1e-5)"
   ]
  },
  {
   "cell_type": "code",
   "execution_count": 10,
   "metadata": {},
   "outputs": [
    {
     "data": {
      "text/plain": [
       "(1e-14, 1e-06)"
      ]
     },
     "execution_count": 10,
     "metadata": {},
     "output_type": "execute_result"
    },
    {
     "data": {
      "image/png": "[encoded data removed]",
      "text/plain": [
       "<Figure size 432x288 with 1 Axes>"
      ]
     },
     "metadata": {
      "needs_background": "light"
     },
     "output_type": "display_data"
    }
   ],
   "source": [
    "plt.scatter(z,rho_23)\n",
    "plt.scatter(z,rho_24)\n",
    "plt.scatter(z,rho_25)\n",
    "plt.scatter(z,rho_26)\n",
    "plt.scatter(z,rho_27)\n",
    "plt.yscale('log'); plt.ylim(1e-14,1e-6)"
   ]
  },
  {
   "cell_type": "code",
   "execution_count": 15,
   "metadata": {},
   "outputs": [
    {
     "name": "stdout",
     "output_type": "stream",
     "text": [
      "m=-23, Lbol=6.3e+45\n",
      "m=-24, Lbol=1.6e+46\n",
      "m=-25, Lbol=4.0e+46\n",
      "m=-26, Lbol=1.0e+47\n",
      "m=-27, Lbol=2.5e+47\n"
     ]
    }
   ],
   "source": [
    "M1450 = [-23,-24,-25,-26,-27]\n",
    "# print('min max of ls {0:.1e}, {1:.1e}'.format(lmin,lmax))\n",
    "\n",
    "for m in M1450:\n",
    "    print('m={:d}, Lbol={:.1e}'.format(m,Lbol_M1450(m)))"
   ]
  },
  {
   "cell_type": "code",
   "execution_count": null,
   "metadata": {},
   "outputs": [],
   "source": []
  }
 ],
 "metadata": {
  "kernelspec": {
   "display_name": "Python 3",
   "language": "python",
   "name": "python3"
  },
  "language_info": {
   "codemirror_mode": {
    "name": "ipython",
    "version": 3
   },
   "file_extension": ".py",
   "mimetype": "text/x-python",
   "name": "python",
   "nbconvert_exporter": "python",
   "pygments_lexer": "ipython3",
   "version": "3.7.3"
  },
  "vscode": {
   "interpreter": {
    "hash": "398dc28c06ad810e77de546bbdfa897a6ee0b83e59a5207339dda01a7843e01d"
   }
  }
 },
 "nbformat": 4,
 "nbformat_minor": 2
}
